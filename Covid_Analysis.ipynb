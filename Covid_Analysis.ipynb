{
 "cells": [
  {
   "cell_type": "code",
   "execution_count": 100,
   "id": "a909462c",
   "metadata": {},
   "outputs": [],
   "source": [
    "# -------------------- READ ME -------------------- #\n",
    "\n",
    "# CAMINHO 1\n",
    "# Para rodar esse arquivo você deve instalar o pip abaixo.\n",
    "# Além disso, ter uma conta na google cloud e em \"billing_project_id\" colocar o ID do seu projeto\n",
    "\n",
    "# CAMINHO 2\n",
    "# Caso não deseje fazer instalações e demais, ao final na Análise Exploratória dos Dados é gerado um arquivo .csv\n",
    "# Você pode executar o código a partir da seção Processamento dos Dados\n",
    "# Lembre-se de executar as Bibliotecas !\n",
    "\n",
    "# ------------------------------------------------- #"
   ]
  },
  {
   "cell_type": "code",
   "execution_count": 1,
   "id": "af1f9c98",
   "metadata": {},
   "outputs": [],
   "source": [
    "#!pip install basedosdados"
   ]
  },
  {
   "cell_type": "markdown",
   "id": "ae84cbe0",
   "metadata": {},
   "source": [
    "### Introdução\n",
    "\n",
    "Essa análise faz parte do projeto final do curso de Técnicas de Programação I da Let's Code from Ada do programa Diversidade Tech\n",
    "\n",
    "### Conceito\n",
    "\n",
    "O projeto tem como finalidade analisar os dados de vacinação contra COVID-19 dos Estados do Nordeste no período de 2021, trazendo visibilidade sobre gênero, raça/cor e fabricantes das vacinas aplicadas nos 09 Estados que compõe a região do nordeste do Brasil.\n"
   ]
  },
  {
   "cell_type": "markdown",
   "id": "790cbfcf",
   "metadata": {},
   "source": [
    "### Bibliotecas"
   ]
  },
  {
   "cell_type": "code",
   "execution_count": 101,
   "id": "e05b15ce",
   "metadata": {},
   "outputs": [],
   "source": [
    "import basedosdados as bd\n",
    "import pandas as pd\n",
    "import matplotlib.pyplot as plt\n",
    "import plotly.express as px"
   ]
  },
  {
   "cell_type": "markdown",
   "id": "968a3ef2",
   "metadata": {},
   "source": [
    "#### Definindo Tamanho da Amostra\n",
    "\n",
    "Por conta do custo computacional para carregar as análises, foi calculado um tamanho de amostra que representasse os vacinados contra COVID-19 para cada Estado da região nordeste."
   ]
  },
  {
   "cell_type": "code",
   "execution_count": 3,
   "id": "31897747",
   "metadata": {},
   "outputs": [
    {
     "name": "stdout",
     "output_type": "stream",
     "text": [
      "Tamanho da amostra 2401.0\n"
     ]
    }
   ],
   "source": [
    "z = 1.96 #Z-score para 95% de confiança\n",
    "e = 0.02 #2% de margem de erro \n",
    "p = 0.5 #50% desvio padrão \n",
    "\n",
    "sample_size = ((z ** 2) *p*(1-p))/(e**2)\n",
    "print(f'Tamanho da amostra {round(sample_size,1)}')"
   ]
  },
  {
   "cell_type": "markdown",
   "id": "8cedd14a",
   "metadata": {},
   "source": [
    "### Dados de Doses de Vacina no NE "
   ]
  },
  {
   "cell_type": "code",
   "execution_count": 4,
   "id": "edc19a60",
   "metadata": {},
   "outputs": [],
   "source": [
    "query_vacina = \"(SELECT estado_ma.sigla_uf, estado_ma.nome_fabricante, estado_ma.data_aplicacao, estado_ma.dose FROM `basedosdados.br_ms_vacinacao_covid19.microdados_vacinacao` as estado_ma WHERE estado_ma.sigla_uf = 'MA' LIMIT 2401)\\\n",
    "UNION ALL \\\n",
    "(SELECT estado_ce.sigla_uf, estado_ce.nome_fabricante, estado_ce.data_aplicacao, estado_ce.dose FROM `basedosdados.br_ms_vacinacao_covid19.microdados_vacinacao` as estado_ce WHERE estado_ce.sigla_uf = 'CE'  LIMIT 2401)\\\n",
    "UNION ALL \\\n",
    "(SELECT estado_rn.sigla_uf, estado_rn.nome_fabricante, estado_rn.data_aplicacao, estado_rn.dose FROM `basedosdados.br_ms_vacinacao_covid19.microdados_vacinacao` as estado_rn WHERE estado_rn.sigla_uf = 'RN'  LIMIT 2401) \\\n",
    "UNION ALL\\\n",
    "(SELECT estado_pb.sigla_uf, estado_pb.nome_fabricante, estado_pb.data_aplicacao, estado_pb.dose FROM `basedosdados.br_ms_vacinacao_covid19.microdados_vacinacao` as estado_pb WHERE estado_pb.sigla_uf = 'PB'  LIMIT 2401) \\\n",
    "UNION ALL \\\n",
    "(SELECT estado_pe.sigla_uf, estado_pe.nome_fabricante, estado_pe.data_aplicacao, estado_pe.dose FROM `basedosdados.br_ms_vacinacao_covid19.microdados_vacinacao` as estado_pe WHERE estado_pe.sigla_uf = 'PE'  LIMIT 2401) \\\n",
    "UNION ALL \\\n",
    "(SELECT estado_al.sigla_uf, estado_al.nome_fabricante, estado_al.data_aplicacao, estado_al.dose FROM `basedosdados.br_ms_vacinacao_covid19.microdados_vacinacao` as estado_al WHERE estado_al.sigla_uf = 'AL'  LIMIT 2401) \\\n",
    "UNION ALL \\\n",
    "(SELECT estado_se.sigla_uf, estado_se.nome_fabricante, estado_se.data_aplicacao, estado_se.dose FROM `basedosdados.br_ms_vacinacao_covid19.microdados_vacinacao` as estado_se WHERE estado_se.sigla_uf = 'SE'  LIMIT 2401) \\\n",
    "UNION ALL \\\n",
    "(SELECT estado_ba.sigla_uf, estado_ba.nome_fabricante, estado_ba.data_aplicacao, estado_ba.dose FROM `basedosdados.br_ms_vacinacao_covid19.microdados_vacinacao` as estado_ba WHERE estado_ba.sigla_uf = 'BA'  LIMIT 2401) \\\n",
    "UNION ALL \\\n",
    "(SELECT estado_pi.sigla_uf, estado_pi.nome_fabricante, estado_pi.data_aplicacao, estado_pi.dose FROM `basedosdados.br_ms_vacinacao_covid19.microdados_vacinacao` as estado_pi WHERE estado_pi.sigla_uf = 'PI'  LIMIT 2401)\""
   ]
  },
  {
   "cell_type": "code",
   "execution_count": 5,
   "id": "cb5134f7",
   "metadata": {},
   "outputs": [
    {
     "name": "stderr",
     "output_type": "stream",
     "text": [
      "Downloading: 100%|██████████| 21609/21609 [00:01<00:00, 15885.50rows/s]\n"
     ]
    }
   ],
   "source": [
    "df = bd.read_sql(query = query_vacina, billing_project_id='YOUR_PROJECT_ID')"
   ]
  },
  {
   "cell_type": "code",
   "execution_count": 6,
   "id": "06fe1c55",
   "metadata": {},
   "outputs": [
    {
     "data": {
      "text/html": [
       "<div>\n",
       "<style scoped>\n",
       "    .dataframe tbody tr th:only-of-type {\n",
       "        vertical-align: middle;\n",
       "    }\n",
       "\n",
       "    .dataframe tbody tr th {\n",
       "        vertical-align: top;\n",
       "    }\n",
       "\n",
       "    .dataframe thead th {\n",
       "        text-align: right;\n",
       "    }\n",
       "</style>\n",
       "<table border=\"1\" class=\"dataframe\">\n",
       "  <thead>\n",
       "    <tr style=\"text-align: right;\">\n",
       "      <th></th>\n",
       "      <th>sigla_uf</th>\n",
       "      <th>nome_fabricante</th>\n",
       "      <th>data_aplicacao</th>\n",
       "      <th>dose</th>\n",
       "    </tr>\n",
       "  </thead>\n",
       "  <tbody>\n",
       "    <tr>\n",
       "      <th>0</th>\n",
       "      <td>AL</td>\n",
       "      <td>PFIZER</td>\n",
       "      <td>2021-08-25</td>\n",
       "      <td>1ª Dose</td>\n",
       "    </tr>\n",
       "    <tr>\n",
       "      <th>1</th>\n",
       "      <td>AL</td>\n",
       "      <td>PFIZER</td>\n",
       "      <td>2021-10-25</td>\n",
       "      <td>2ª Dose</td>\n",
       "    </tr>\n",
       "    <tr>\n",
       "      <th>2</th>\n",
       "      <td>AL</td>\n",
       "      <td>PFIZER</td>\n",
       "      <td>2021-10-19</td>\n",
       "      <td>1ª Dose</td>\n",
       "    </tr>\n",
       "    <tr>\n",
       "      <th>3</th>\n",
       "      <td>AL</td>\n",
       "      <td>PFIZER</td>\n",
       "      <td>2021-08-02</td>\n",
       "      <td>1ª Dose</td>\n",
       "    </tr>\n",
       "    <tr>\n",
       "      <th>4</th>\n",
       "      <td>AL</td>\n",
       "      <td>PFIZER</td>\n",
       "      <td>2021-08-21</td>\n",
       "      <td>1ª Dose</td>\n",
       "    </tr>\n",
       "  </tbody>\n",
       "</table>\n",
       "</div>"
      ],
      "text/plain": [
       "  sigla_uf nome_fabricante data_aplicacao     dose\n",
       "0       AL          PFIZER     2021-08-25  1ª Dose\n",
       "1       AL          PFIZER     2021-10-25  2ª Dose\n",
       "2       AL          PFIZER     2021-10-19  1ª Dose\n",
       "3       AL          PFIZER     2021-08-02  1ª Dose\n",
       "4       AL          PFIZER     2021-08-21  1ª Dose"
      ]
     },
     "execution_count": 6,
     "metadata": {},
     "output_type": "execute_result"
    }
   ],
   "source": [
    "df.head()"
   ]
  },
  {
   "cell_type": "code",
   "execution_count": 7,
   "id": "396dcf8e",
   "metadata": {},
   "outputs": [
    {
     "name": "stdout",
     "output_type": "stream",
     "text": [
      "<class 'pandas.core.frame.DataFrame'>\n",
      "RangeIndex: 21609 entries, 0 to 21608\n",
      "Data columns (total 4 columns):\n",
      " #   Column           Non-Null Count  Dtype \n",
      "---  ------           --------------  ----- \n",
      " 0   sigla_uf         21609 non-null  object\n",
      " 1   nome_fabricante  21609 non-null  object\n",
      " 2   data_aplicacao   21609 non-null  dbdate\n",
      " 3   dose             21609 non-null  object\n",
      "dtypes: dbdate(1), object(3)\n",
      "memory usage: 675.4+ KB\n"
     ]
    }
   ],
   "source": [
    "df.info()"
   ]
  },
  {
   "cell_type": "markdown",
   "id": "4d08b5ad",
   "metadata": {},
   "source": [
    "### Dados de Pacientes vacinados no NE"
   ]
  },
  {
   "cell_type": "code",
   "execution_count": 8,
   "id": "adbb3500",
   "metadata": {},
   "outputs": [],
   "source": [
    "query_pacientes = \"(SELECT estado_ma.sigla_uf_endereco, estado_ma.sexo, estado_ma.raca_cor FROM `basedosdados.br_ms_vacinacao_covid19.microdados_paciente` as estado_ma WHERE estado_ma.sigla_uf_endereco = 'MA' LIMIT 2401) \\\n",
    "UNION ALL (SELECT estado_ce.sigla_uf_endereco, estado_ce.sexo, estado_ce.raca_cor FROM `basedosdados.br_ms_vacinacao_covid19.microdados_paciente` as estado_ce WHERE estado_ce.sigla_uf_endereco = 'CE' LIMIT 2401) \\\n",
    "UNION ALL (SELECT estado_rn.sigla_uf_endereco, estado_rn.sexo, estado_rn.raca_cor FROM `basedosdados.br_ms_vacinacao_covid19.microdados_paciente` as estado_rn WHERE estado_rn.sigla_uf_endereco = 'RN' LIMIT 2401) \\\n",
    "UNION ALL (SELECT estado_pb.sigla_uf_endereco, estado_pb.sexo, estado_pb.raca_cor FROM `basedosdados.br_ms_vacinacao_covid19.microdados_paciente` as estado_pb WHERE estado_pb.sigla_uf_endereco = 'PB' LIMIT 2401) \\\n",
    "UNION ALL (SELECT estado_al.sigla_uf_endereco, estado_al.sexo, estado_al.raca_cor FROM `basedosdados.br_ms_vacinacao_covid19.microdados_paciente` as estado_al WHERE estado_al.sigla_uf_endereco = 'AL' LIMIT 2401) \\\n",
    "UNION ALL (SELECT estado_se.sigla_uf_endereco, estado_se.sexo, estado_se.raca_cor FROM `basedosdados.br_ms_vacinacao_covid19.microdados_paciente` as estado_se WHERE estado_se.sigla_uf_endereco = 'SE' LIMIT 2401) \\\n",
    "UNION ALL (SELECT estado_ba.sigla_uf_endereco, estado_ba.sexo, estado_ba.raca_cor FROM `basedosdados.br_ms_vacinacao_covid19.microdados_paciente` as estado_ba WHERE estado_ba.sigla_uf_endereco = 'BA' LIMIT 2401) \\\n",
    "UNION ALL (SELECT estado_pi.sigla_uf_endereco, estado_pi.sexo, estado_pi.raca_cor FROM `basedosdados.br_ms_vacinacao_covid19.microdados_paciente` as estado_pi WHERE estado_pi.sigla_uf_endereco = 'PI' LIMIT 2401)\\\n",
    "UNION ALL (SELECT estado_pe.sigla_uf_endereco, estado_pe.sexo, estado_pe.raca_cor FROM `basedosdados.br_ms_vacinacao_covid19.microdados_paciente` as estado_pe WHERE estado_pe.sigla_uf_endereco = 'PE' LIMIT 2401)\""
   ]
  },
  {
   "cell_type": "code",
   "execution_count": 9,
   "id": "75807161",
   "metadata": {},
   "outputs": [
    {
     "name": "stderr",
     "output_type": "stream",
     "text": [
      "Downloading: 100%|██████████| 21609/21609 [00:01<00:00, 21187.29rows/s]\n"
     ]
    },
    {
     "data": {
      "text/html": [
       "<div>\n",
       "<style scoped>\n",
       "    .dataframe tbody tr th:only-of-type {\n",
       "        vertical-align: middle;\n",
       "    }\n",
       "\n",
       "    .dataframe tbody tr th {\n",
       "        vertical-align: top;\n",
       "    }\n",
       "\n",
       "    .dataframe thead th {\n",
       "        text-align: right;\n",
       "    }\n",
       "</style>\n",
       "<table border=\"1\" class=\"dataframe\">\n",
       "  <thead>\n",
       "    <tr style=\"text-align: right;\">\n",
       "      <th></th>\n",
       "      <th>sigla_uf_endereco</th>\n",
       "      <th>sexo</th>\n",
       "      <th>raca_cor</th>\n",
       "    </tr>\n",
       "  </thead>\n",
       "  <tbody>\n",
       "    <tr>\n",
       "      <th>0</th>\n",
       "      <td>PB</td>\n",
       "      <td>M</td>\n",
       "      <td>4</td>\n",
       "    </tr>\n",
       "    <tr>\n",
       "      <th>1</th>\n",
       "      <td>PB</td>\n",
       "      <td>F</td>\n",
       "      <td>3</td>\n",
       "    </tr>\n",
       "    <tr>\n",
       "      <th>2</th>\n",
       "      <td>PB</td>\n",
       "      <td>M</td>\n",
       "      <td>3</td>\n",
       "    </tr>\n",
       "    <tr>\n",
       "      <th>3</th>\n",
       "      <td>PB</td>\n",
       "      <td>M</td>\n",
       "      <td>4</td>\n",
       "    </tr>\n",
       "    <tr>\n",
       "      <th>4</th>\n",
       "      <td>PB</td>\n",
       "      <td>M</td>\n",
       "      <td>99</td>\n",
       "    </tr>\n",
       "  </tbody>\n",
       "</table>\n",
       "</div>"
      ],
      "text/plain": [
       "  sigla_uf_endereco sexo raca_cor\n",
       "0                PB    M        4\n",
       "1                PB    F        3\n",
       "2                PB    M        3\n",
       "3                PB    M        4\n",
       "4                PB    M       99"
      ]
     },
     "execution_count": 9,
     "metadata": {},
     "output_type": "execute_result"
    }
   ],
   "source": [
    "df_paciente = bd.read_sql(query = query_pacientes, billing_project_id='YOUR_PROJECT_ID')\n",
    "df_paciente.head()"
   ]
  },
  {
   "cell_type": "code",
   "execution_count": 10,
   "id": "fbfac396",
   "metadata": {},
   "outputs": [
    {
     "name": "stdout",
     "output_type": "stream",
     "text": [
      "<class 'pandas.core.frame.DataFrame'>\n",
      "RangeIndex: 21609 entries, 0 to 21608\n",
      "Data columns (total 3 columns):\n",
      " #   Column             Non-Null Count  Dtype \n",
      "---  ------             --------------  ----- \n",
      " 0   sigla_uf_endereco  21609 non-null  object\n",
      " 1   sexo               21609 non-null  object\n",
      " 2   raca_cor           21609 non-null  object\n",
      "dtypes: object(3)\n",
      "memory usage: 506.6+ KB\n"
     ]
    }
   ],
   "source": [
    "df_paciente.info()"
   ]
  },
  {
   "cell_type": "markdown",
   "id": "aeeb7702",
   "metadata": {},
   "source": [
    "### Unindo Tabelas"
   ]
  },
  {
   "cell_type": "code",
   "execution_count": 30,
   "id": "8449866d",
   "metadata": {},
   "outputs": [
    {
     "data": {
      "text/html": [
       "<div>\n",
       "<style scoped>\n",
       "    .dataframe tbody tr th:only-of-type {\n",
       "        vertical-align: middle;\n",
       "    }\n",
       "\n",
       "    .dataframe tbody tr th {\n",
       "        vertical-align: top;\n",
       "    }\n",
       "\n",
       "    .dataframe thead th {\n",
       "        text-align: right;\n",
       "    }\n",
       "</style>\n",
       "<table border=\"1\" class=\"dataframe\">\n",
       "  <thead>\n",
       "    <tr style=\"text-align: right;\">\n",
       "      <th></th>\n",
       "      <th>sigla_uf_endereco</th>\n",
       "      <th>sexo</th>\n",
       "      <th>raca_cor</th>\n",
       "    </tr>\n",
       "  </thead>\n",
       "  <tbody>\n",
       "    <tr>\n",
       "      <th>0</th>\n",
       "      <td>AL</td>\n",
       "      <td>F</td>\n",
       "      <td>3</td>\n",
       "    </tr>\n",
       "    <tr>\n",
       "      <th>1</th>\n",
       "      <td>AL</td>\n",
       "      <td>F</td>\n",
       "      <td>3</td>\n",
       "    </tr>\n",
       "    <tr>\n",
       "      <th>2</th>\n",
       "      <td>AL</td>\n",
       "      <td>F</td>\n",
       "      <td>2</td>\n",
       "    </tr>\n",
       "    <tr>\n",
       "      <th>3</th>\n",
       "      <td>AL</td>\n",
       "      <td>M</td>\n",
       "      <td>3</td>\n",
       "    </tr>\n",
       "    <tr>\n",
       "      <th>4</th>\n",
       "      <td>AL</td>\n",
       "      <td>M</td>\n",
       "      <td>3</td>\n",
       "    </tr>\n",
       "    <tr>\n",
       "      <th>...</th>\n",
       "      <td>...</td>\n",
       "      <td>...</td>\n",
       "      <td>...</td>\n",
       "    </tr>\n",
       "    <tr>\n",
       "      <th>21604</th>\n",
       "      <td>SE</td>\n",
       "      <td>F</td>\n",
       "      <td>3</td>\n",
       "    </tr>\n",
       "    <tr>\n",
       "      <th>21605</th>\n",
       "      <td>SE</td>\n",
       "      <td>M</td>\n",
       "      <td>4</td>\n",
       "    </tr>\n",
       "    <tr>\n",
       "      <th>21606</th>\n",
       "      <td>SE</td>\n",
       "      <td>M</td>\n",
       "      <td>3</td>\n",
       "    </tr>\n",
       "    <tr>\n",
       "      <th>21607</th>\n",
       "      <td>SE</td>\n",
       "      <td>F</td>\n",
       "      <td>3</td>\n",
       "    </tr>\n",
       "    <tr>\n",
       "      <th>21608</th>\n",
       "      <td>SE</td>\n",
       "      <td>F</td>\n",
       "      <td>3</td>\n",
       "    </tr>\n",
       "  </tbody>\n",
       "</table>\n",
       "<p>21609 rows × 3 columns</p>\n",
       "</div>"
      ],
      "text/plain": [
       "      sigla_uf_endereco sexo raca_cor\n",
       "0                    AL    F        3\n",
       "1                    AL    F        3\n",
       "2                    AL    F        2\n",
       "3                    AL    M        3\n",
       "4                    AL    M        3\n",
       "...                 ...  ...      ...\n",
       "21604                SE    F        3\n",
       "21605                SE    M        4\n",
       "21606                SE    M        3\n",
       "21607                SE    F        3\n",
       "21608                SE    F        3\n",
       "\n",
       "[21609 rows x 3 columns]"
      ]
     },
     "execution_count": 30,
     "metadata": {},
     "output_type": "execute_result"
    }
   ],
   "source": [
    "df_paciente = df_paciente.sort_values('sigla_uf_endereco').reset_index(drop = True)\n",
    "df_paciente"
   ]
  },
  {
   "cell_type": "code",
   "execution_count": 31,
   "id": "31f8b25a",
   "metadata": {},
   "outputs": [
    {
     "data": {
      "text/html": [
       "<div>\n",
       "<style scoped>\n",
       "    .dataframe tbody tr th:only-of-type {\n",
       "        vertical-align: middle;\n",
       "    }\n",
       "\n",
       "    .dataframe tbody tr th {\n",
       "        vertical-align: top;\n",
       "    }\n",
       "\n",
       "    .dataframe thead th {\n",
       "        text-align: right;\n",
       "    }\n",
       "</style>\n",
       "<table border=\"1\" class=\"dataframe\">\n",
       "  <thead>\n",
       "    <tr style=\"text-align: right;\">\n",
       "      <th></th>\n",
       "      <th>sigla_uf</th>\n",
       "      <th>nome_fabricante</th>\n",
       "      <th>data_aplicacao</th>\n",
       "      <th>dose</th>\n",
       "    </tr>\n",
       "  </thead>\n",
       "  <tbody>\n",
       "    <tr>\n",
       "      <th>0</th>\n",
       "      <td>AL</td>\n",
       "      <td>PFIZER</td>\n",
       "      <td>2021-08-25</td>\n",
       "      <td>1ª Dose</td>\n",
       "    </tr>\n",
       "    <tr>\n",
       "      <th>1</th>\n",
       "      <td>AL</td>\n",
       "      <td>PFIZER</td>\n",
       "      <td>2021-12-07</td>\n",
       "      <td>1ª Dose</td>\n",
       "    </tr>\n",
       "    <tr>\n",
       "      <th>2</th>\n",
       "      <td>AL</td>\n",
       "      <td>PFIZER</td>\n",
       "      <td>2021-08-17</td>\n",
       "      <td>2ª Dose</td>\n",
       "    </tr>\n",
       "    <tr>\n",
       "      <th>3</th>\n",
       "      <td>AL</td>\n",
       "      <td>PFIZER</td>\n",
       "      <td>2021-10-21</td>\n",
       "      <td>Reforço</td>\n",
       "    </tr>\n",
       "    <tr>\n",
       "      <th>4</th>\n",
       "      <td>AL</td>\n",
       "      <td>PFIZER</td>\n",
       "      <td>2021-09-07</td>\n",
       "      <td>2ª Dose</td>\n",
       "    </tr>\n",
       "    <tr>\n",
       "      <th>...</th>\n",
       "      <td>...</td>\n",
       "      <td>...</td>\n",
       "      <td>...</td>\n",
       "      <td>...</td>\n",
       "    </tr>\n",
       "    <tr>\n",
       "      <th>21604</th>\n",
       "      <td>SE</td>\n",
       "      <td>PFIZER</td>\n",
       "      <td>2021-09-28</td>\n",
       "      <td>Reforço</td>\n",
       "    </tr>\n",
       "    <tr>\n",
       "      <th>21605</th>\n",
       "      <td>SE</td>\n",
       "      <td>PFIZER</td>\n",
       "      <td>2021-08-24</td>\n",
       "      <td>1ª Dose</td>\n",
       "    </tr>\n",
       "    <tr>\n",
       "      <th>21606</th>\n",
       "      <td>SE</td>\n",
       "      <td>PFIZER</td>\n",
       "      <td>2021-09-14</td>\n",
       "      <td>2ª Dose</td>\n",
       "    </tr>\n",
       "    <tr>\n",
       "      <th>21607</th>\n",
       "      <td>SE</td>\n",
       "      <td>PFIZER</td>\n",
       "      <td>2021-08-27</td>\n",
       "      <td>1ª Dose</td>\n",
       "    </tr>\n",
       "    <tr>\n",
       "      <th>21608</th>\n",
       "      <td>SE</td>\n",
       "      <td>SINOVAC/BUTANTAN</td>\n",
       "      <td>2021-02-19</td>\n",
       "      <td>2ª Dose</td>\n",
       "    </tr>\n",
       "  </tbody>\n",
       "</table>\n",
       "<p>21609 rows × 4 columns</p>\n",
       "</div>"
      ],
      "text/plain": [
       "      sigla_uf   nome_fabricante data_aplicacao     dose\n",
       "0           AL            PFIZER     2021-08-25  1ª Dose\n",
       "1           AL            PFIZER     2021-12-07  1ª Dose\n",
       "2           AL            PFIZER     2021-08-17  2ª Dose\n",
       "3           AL            PFIZER     2021-10-21  Reforço\n",
       "4           AL            PFIZER     2021-09-07  2ª Dose\n",
       "...        ...               ...            ...      ...\n",
       "21604       SE            PFIZER     2021-09-28  Reforço\n",
       "21605       SE            PFIZER     2021-08-24  1ª Dose\n",
       "21606       SE            PFIZER     2021-09-14  2ª Dose\n",
       "21607       SE            PFIZER     2021-08-27  1ª Dose\n",
       "21608       SE  SINOVAC/BUTANTAN     2021-02-19  2ª Dose\n",
       "\n",
       "[21609 rows x 4 columns]"
      ]
     },
     "execution_count": 31,
     "metadata": {},
     "output_type": "execute_result"
    }
   ],
   "source": [
    "df = df.sort_values('sigla_uf').reset_index(drop = True)\n",
    "df"
   ]
  },
  {
   "cell_type": "code",
   "execution_count": 32,
   "id": "23ab2f58",
   "metadata": {},
   "outputs": [
    {
     "data": {
      "text/html": [
       "<div>\n",
       "<style scoped>\n",
       "    .dataframe tbody tr th:only-of-type {\n",
       "        vertical-align: middle;\n",
       "    }\n",
       "\n",
       "    .dataframe tbody tr th {\n",
       "        vertical-align: top;\n",
       "    }\n",
       "\n",
       "    .dataframe thead th {\n",
       "        text-align: right;\n",
       "    }\n",
       "</style>\n",
       "<table border=\"1\" class=\"dataframe\">\n",
       "  <thead>\n",
       "    <tr style=\"text-align: right;\">\n",
       "      <th></th>\n",
       "      <th>sigla_uf</th>\n",
       "      <th>nome_fabricante</th>\n",
       "      <th>data_aplicacao</th>\n",
       "      <th>dose</th>\n",
       "      <th>sigla_uf_endereco</th>\n",
       "      <th>sexo</th>\n",
       "      <th>raca_cor</th>\n",
       "    </tr>\n",
       "  </thead>\n",
       "  <tbody>\n",
       "    <tr>\n",
       "      <th>0</th>\n",
       "      <td>AL</td>\n",
       "      <td>PFIZER</td>\n",
       "      <td>2021-08-25</td>\n",
       "      <td>1ª Dose</td>\n",
       "      <td>AL</td>\n",
       "      <td>F</td>\n",
       "      <td>3</td>\n",
       "    </tr>\n",
       "    <tr>\n",
       "      <th>1</th>\n",
       "      <td>AL</td>\n",
       "      <td>PFIZER</td>\n",
       "      <td>2021-12-07</td>\n",
       "      <td>1ª Dose</td>\n",
       "      <td>AL</td>\n",
       "      <td>F</td>\n",
       "      <td>3</td>\n",
       "    </tr>\n",
       "    <tr>\n",
       "      <th>2</th>\n",
       "      <td>AL</td>\n",
       "      <td>PFIZER</td>\n",
       "      <td>2021-08-17</td>\n",
       "      <td>2ª Dose</td>\n",
       "      <td>AL</td>\n",
       "      <td>F</td>\n",
       "      <td>2</td>\n",
       "    </tr>\n",
       "    <tr>\n",
       "      <th>3</th>\n",
       "      <td>AL</td>\n",
       "      <td>PFIZER</td>\n",
       "      <td>2021-10-21</td>\n",
       "      <td>Reforço</td>\n",
       "      <td>AL</td>\n",
       "      <td>M</td>\n",
       "      <td>3</td>\n",
       "    </tr>\n",
       "    <tr>\n",
       "      <th>4</th>\n",
       "      <td>AL</td>\n",
       "      <td>PFIZER</td>\n",
       "      <td>2021-09-07</td>\n",
       "      <td>2ª Dose</td>\n",
       "      <td>AL</td>\n",
       "      <td>M</td>\n",
       "      <td>3</td>\n",
       "    </tr>\n",
       "    <tr>\n",
       "      <th>...</th>\n",
       "      <td>...</td>\n",
       "      <td>...</td>\n",
       "      <td>...</td>\n",
       "      <td>...</td>\n",
       "      <td>...</td>\n",
       "      <td>...</td>\n",
       "      <td>...</td>\n",
       "    </tr>\n",
       "    <tr>\n",
       "      <th>21604</th>\n",
       "      <td>SE</td>\n",
       "      <td>PFIZER</td>\n",
       "      <td>2021-09-28</td>\n",
       "      <td>Reforço</td>\n",
       "      <td>SE</td>\n",
       "      <td>F</td>\n",
       "      <td>3</td>\n",
       "    </tr>\n",
       "    <tr>\n",
       "      <th>21605</th>\n",
       "      <td>SE</td>\n",
       "      <td>PFIZER</td>\n",
       "      <td>2021-08-24</td>\n",
       "      <td>1ª Dose</td>\n",
       "      <td>SE</td>\n",
       "      <td>M</td>\n",
       "      <td>4</td>\n",
       "    </tr>\n",
       "    <tr>\n",
       "      <th>21606</th>\n",
       "      <td>SE</td>\n",
       "      <td>PFIZER</td>\n",
       "      <td>2021-09-14</td>\n",
       "      <td>2ª Dose</td>\n",
       "      <td>SE</td>\n",
       "      <td>M</td>\n",
       "      <td>3</td>\n",
       "    </tr>\n",
       "    <tr>\n",
       "      <th>21607</th>\n",
       "      <td>SE</td>\n",
       "      <td>PFIZER</td>\n",
       "      <td>2021-08-27</td>\n",
       "      <td>1ª Dose</td>\n",
       "      <td>SE</td>\n",
       "      <td>F</td>\n",
       "      <td>3</td>\n",
       "    </tr>\n",
       "    <tr>\n",
       "      <th>21608</th>\n",
       "      <td>SE</td>\n",
       "      <td>SINOVAC/BUTANTAN</td>\n",
       "      <td>2021-02-19</td>\n",
       "      <td>2ª Dose</td>\n",
       "      <td>SE</td>\n",
       "      <td>F</td>\n",
       "      <td>3</td>\n",
       "    </tr>\n",
       "  </tbody>\n",
       "</table>\n",
       "<p>21609 rows × 7 columns</p>\n",
       "</div>"
      ],
      "text/plain": [
       "      sigla_uf   nome_fabricante data_aplicacao     dose sigla_uf_endereco  \\\n",
       "0           AL            PFIZER     2021-08-25  1ª Dose                AL   \n",
       "1           AL            PFIZER     2021-12-07  1ª Dose                AL   \n",
       "2           AL            PFIZER     2021-08-17  2ª Dose                AL   \n",
       "3           AL            PFIZER     2021-10-21  Reforço                AL   \n",
       "4           AL            PFIZER     2021-09-07  2ª Dose                AL   \n",
       "...        ...               ...            ...      ...               ...   \n",
       "21604       SE            PFIZER     2021-09-28  Reforço                SE   \n",
       "21605       SE            PFIZER     2021-08-24  1ª Dose                SE   \n",
       "21606       SE            PFIZER     2021-09-14  2ª Dose                SE   \n",
       "21607       SE            PFIZER     2021-08-27  1ª Dose                SE   \n",
       "21608       SE  SINOVAC/BUTANTAN     2021-02-19  2ª Dose                SE   \n",
       "\n",
       "      sexo raca_cor  \n",
       "0        F        3  \n",
       "1        F        3  \n",
       "2        F        2  \n",
       "3        M        3  \n",
       "4        M        3  \n",
       "...    ...      ...  \n",
       "21604    F        3  \n",
       "21605    M        4  \n",
       "21606    M        3  \n",
       "21607    F        3  \n",
       "21608    F        3  \n",
       "\n",
       "[21609 rows x 7 columns]"
      ]
     },
     "execution_count": 32,
     "metadata": {},
     "output_type": "execute_result"
    }
   ],
   "source": [
    "df_vacinacao = pd.concat([df,df_paciente],axis = 1)\n",
    "df_vacinacao"
   ]
  },
  {
   "cell_type": "code",
   "execution_count": 33,
   "id": "d7156e3e",
   "metadata": {},
   "outputs": [
    {
     "data": {
      "text/plain": [
       "array(['AL', 'BA', 'CE', 'MA', 'PB', 'PE', 'PI', 'RN', 'SE'], dtype=object)"
      ]
     },
     "execution_count": 33,
     "metadata": {},
     "output_type": "execute_result"
    }
   ],
   "source": [
    "df_vacinacao[\"sigla_uf_endereco\"].unique()"
   ]
  },
  {
   "cell_type": "code",
   "execution_count": 34,
   "id": "25147bda",
   "metadata": {},
   "outputs": [
    {
     "data": {
      "text/plain": [
       "array(['AL', 'BA', 'CE', 'MA', 'PB', 'PE', 'PI', 'RN', 'SE'], dtype=object)"
      ]
     },
     "execution_count": 34,
     "metadata": {},
     "output_type": "execute_result"
    }
   ],
   "source": [
    "df_vacinacao[\"sigla_uf\"].unique()"
   ]
  },
  {
   "cell_type": "code",
   "execution_count": 35,
   "id": "01ab2bf8",
   "metadata": {},
   "outputs": [
    {
     "data": {
      "text/html": [
       "<div>\n",
       "<style scoped>\n",
       "    .dataframe tbody tr th:only-of-type {\n",
       "        vertical-align: middle;\n",
       "    }\n",
       "\n",
       "    .dataframe tbody tr th {\n",
       "        vertical-align: top;\n",
       "    }\n",
       "\n",
       "    .dataframe thead th {\n",
       "        text-align: right;\n",
       "    }\n",
       "</style>\n",
       "<table border=\"1\" class=\"dataframe\">\n",
       "  <thead>\n",
       "    <tr style=\"text-align: right;\">\n",
       "      <th></th>\n",
       "      <th>sigla_uf</th>\n",
       "      <th>nome_fabricante</th>\n",
       "      <th>data_aplicacao</th>\n",
       "      <th>dose</th>\n",
       "      <th>sexo</th>\n",
       "      <th>raca_cor</th>\n",
       "    </tr>\n",
       "  </thead>\n",
       "  <tbody>\n",
       "    <tr>\n",
       "      <th>0</th>\n",
       "      <td>AL</td>\n",
       "      <td>PFIZER</td>\n",
       "      <td>2021-08-25</td>\n",
       "      <td>1ª Dose</td>\n",
       "      <td>F</td>\n",
       "      <td>3</td>\n",
       "    </tr>\n",
       "    <tr>\n",
       "      <th>1</th>\n",
       "      <td>AL</td>\n",
       "      <td>PFIZER</td>\n",
       "      <td>2021-12-07</td>\n",
       "      <td>1ª Dose</td>\n",
       "      <td>F</td>\n",
       "      <td>3</td>\n",
       "    </tr>\n",
       "    <tr>\n",
       "      <th>2</th>\n",
       "      <td>AL</td>\n",
       "      <td>PFIZER</td>\n",
       "      <td>2021-08-17</td>\n",
       "      <td>2ª Dose</td>\n",
       "      <td>F</td>\n",
       "      <td>2</td>\n",
       "    </tr>\n",
       "    <tr>\n",
       "      <th>3</th>\n",
       "      <td>AL</td>\n",
       "      <td>PFIZER</td>\n",
       "      <td>2021-10-21</td>\n",
       "      <td>Reforço</td>\n",
       "      <td>M</td>\n",
       "      <td>3</td>\n",
       "    </tr>\n",
       "    <tr>\n",
       "      <th>4</th>\n",
       "      <td>AL</td>\n",
       "      <td>PFIZER</td>\n",
       "      <td>2021-09-07</td>\n",
       "      <td>2ª Dose</td>\n",
       "      <td>M</td>\n",
       "      <td>3</td>\n",
       "    </tr>\n",
       "    <tr>\n",
       "      <th>...</th>\n",
       "      <td>...</td>\n",
       "      <td>...</td>\n",
       "      <td>...</td>\n",
       "      <td>...</td>\n",
       "      <td>...</td>\n",
       "      <td>...</td>\n",
       "    </tr>\n",
       "    <tr>\n",
       "      <th>21604</th>\n",
       "      <td>SE</td>\n",
       "      <td>PFIZER</td>\n",
       "      <td>2021-09-28</td>\n",
       "      <td>Reforço</td>\n",
       "      <td>F</td>\n",
       "      <td>3</td>\n",
       "    </tr>\n",
       "    <tr>\n",
       "      <th>21605</th>\n",
       "      <td>SE</td>\n",
       "      <td>PFIZER</td>\n",
       "      <td>2021-08-24</td>\n",
       "      <td>1ª Dose</td>\n",
       "      <td>M</td>\n",
       "      <td>4</td>\n",
       "    </tr>\n",
       "    <tr>\n",
       "      <th>21606</th>\n",
       "      <td>SE</td>\n",
       "      <td>PFIZER</td>\n",
       "      <td>2021-09-14</td>\n",
       "      <td>2ª Dose</td>\n",
       "      <td>M</td>\n",
       "      <td>3</td>\n",
       "    </tr>\n",
       "    <tr>\n",
       "      <th>21607</th>\n",
       "      <td>SE</td>\n",
       "      <td>PFIZER</td>\n",
       "      <td>2021-08-27</td>\n",
       "      <td>1ª Dose</td>\n",
       "      <td>F</td>\n",
       "      <td>3</td>\n",
       "    </tr>\n",
       "    <tr>\n",
       "      <th>21608</th>\n",
       "      <td>SE</td>\n",
       "      <td>SINOVAC/BUTANTAN</td>\n",
       "      <td>2021-02-19</td>\n",
       "      <td>2ª Dose</td>\n",
       "      <td>F</td>\n",
       "      <td>3</td>\n",
       "    </tr>\n",
       "  </tbody>\n",
       "</table>\n",
       "<p>21609 rows × 6 columns</p>\n",
       "</div>"
      ],
      "text/plain": [
       "      sigla_uf   nome_fabricante data_aplicacao     dose sexo raca_cor\n",
       "0           AL            PFIZER     2021-08-25  1ª Dose    F        3\n",
       "1           AL            PFIZER     2021-12-07  1ª Dose    F        3\n",
       "2           AL            PFIZER     2021-08-17  2ª Dose    F        2\n",
       "3           AL            PFIZER     2021-10-21  Reforço    M        3\n",
       "4           AL            PFIZER     2021-09-07  2ª Dose    M        3\n",
       "...        ...               ...            ...      ...  ...      ...\n",
       "21604       SE            PFIZER     2021-09-28  Reforço    F        3\n",
       "21605       SE            PFIZER     2021-08-24  1ª Dose    M        4\n",
       "21606       SE            PFIZER     2021-09-14  2ª Dose    M        3\n",
       "21607       SE            PFIZER     2021-08-27  1ª Dose    F        3\n",
       "21608       SE  SINOVAC/BUTANTAN     2021-02-19  2ª Dose    F        3\n",
       "\n",
       "[21609 rows x 6 columns]"
      ]
     },
     "execution_count": 35,
     "metadata": {},
     "output_type": "execute_result"
    }
   ],
   "source": [
    "df_vacinacao.drop('sigla_uf_endereco',axis=1)"
   ]
  },
  {
   "cell_type": "markdown",
   "id": "36a9a068",
   "metadata": {},
   "source": [
    "### Análise Exploratória"
   ]
  },
  {
   "cell_type": "code",
   "execution_count": 38,
   "id": "5596dfcf",
   "metadata": {},
   "outputs": [
    {
     "data": {
      "text/plain": [
       "array(['1ª Dose', '2ª Dose', 'Reforço', 'Dose Adicional', 'Dose Única',\n",
       "       '3ª Dose', '4ª Dose', 'Única', 'Dose Inicial'], dtype=object)"
      ]
     },
     "execution_count": 38,
     "metadata": {},
     "output_type": "execute_result"
    }
   ],
   "source": [
    "df_vacinacao['dose'].unique()"
   ]
  },
  {
   "cell_type": "code",
   "execution_count": 55,
   "id": "f5cb835f",
   "metadata": {},
   "outputs": [
    {
     "data": {
      "text/plain": [
       "array(['3', '2', '1', '99', '4', '5'], dtype=object)"
      ]
     },
     "execution_count": 55,
     "metadata": {},
     "output_type": "execute_result"
    }
   ],
   "source": [
    "df_vacinacao['raca_cor'].unique()"
   ]
  },
  {
   "cell_type": "code",
   "execution_count": 40,
   "id": "6e2db77f",
   "metadata": {},
   "outputs": [
    {
     "data": {
      "text/plain": [
       "array(['PFIZER', 'SINOVAC/BUTANTAN', 'ASTRAZENECA/FIOCRUZ', 'JANSSEN'],\n",
       "      dtype=object)"
      ]
     },
     "execution_count": 40,
     "metadata": {},
     "output_type": "execute_result"
    }
   ],
   "source": [
    "df_vacinacao['nome_fabricante'].unique()"
   ]
  },
  {
   "cell_type": "markdown",
   "id": "e4458bf7",
   "metadata": {},
   "source": [
    "##### Substituindo valores"
   ]
  },
  {
   "cell_type": "code",
   "execution_count": 49,
   "id": "e10ddee0",
   "metadata": {},
   "outputs": [],
   "source": [
    "df_vacinacao.replace('Dose Única','1ª Dose', inplace= True)"
   ]
  },
  {
   "cell_type": "code",
   "execution_count": 50,
   "id": "f28e3284",
   "metadata": {},
   "outputs": [],
   "source": [
    "df_vacinacao.replace('Única','1ª Dose', inplace= True)"
   ]
  },
  {
   "cell_type": "code",
   "execution_count": 51,
   "id": "84ec522d",
   "metadata": {},
   "outputs": [],
   "source": [
    "df_vacinacao.replace('Dose Inicial','1ª Dose', inplace= True)"
   ]
  },
  {
   "cell_type": "code",
   "execution_count": 52,
   "id": "36d7d216",
   "metadata": {},
   "outputs": [],
   "source": [
    "df_vacinacao.replace('Reforço','2ª Dose', inplace= True)"
   ]
  },
  {
   "cell_type": "code",
   "execution_count": 53,
   "id": "2ae94e2a",
   "metadata": {},
   "outputs": [],
   "source": [
    "df_vacinacao.replace('Dose Adicional','3ª Dose', inplace= True)"
   ]
  },
  {
   "cell_type": "code",
   "execution_count": 57,
   "id": "514405ba",
   "metadata": {},
   "outputs": [
    {
     "data": {
      "text/plain": [
       "array(['1ª Dose', '2ª Dose', '3ª Dose', '4ª Dose'], dtype=object)"
      ]
     },
     "execution_count": 57,
     "metadata": {},
     "output_type": "execute_result"
    }
   ],
   "source": [
    "df_vacinacao['dose'].unique()"
   ]
  },
  {
   "cell_type": "markdown",
   "id": "6473f984",
   "metadata": {},
   "source": [
    "De acordo com o dicionário de dados disponibilizados temos que a raça é classificada da seguinte maneira:\n",
    "\n",
    "1: Branca<br>\n",
    "2: Preta<br>\n",
    "3: Parda<br>\n",
    "4: Amarelo<br>\n",
    "5: Indígena<br>\n",
    "99: Sem Informação"
   ]
  },
  {
   "cell_type": "code",
   "execution_count": 58,
   "id": "a42640c8",
   "metadata": {},
   "outputs": [],
   "source": [
    "df_vacinacao.replace('1','Branca', inplace= True)"
   ]
  },
  {
   "cell_type": "code",
   "execution_count": 59,
   "id": "3ed431f2",
   "metadata": {},
   "outputs": [],
   "source": [
    "df_vacinacao.replace('2','Preta', inplace= True)"
   ]
  },
  {
   "cell_type": "code",
   "execution_count": 60,
   "id": "bef5ad95",
   "metadata": {},
   "outputs": [],
   "source": [
    "df_vacinacao.replace('3','Parda', inplace= True)"
   ]
  },
  {
   "cell_type": "code",
   "execution_count": 61,
   "id": "1a7dbb46",
   "metadata": {},
   "outputs": [],
   "source": [
    "df_vacinacao.replace('4','Amarelo', inplace= True)"
   ]
  },
  {
   "cell_type": "code",
   "execution_count": 62,
   "id": "dcd22669",
   "metadata": {},
   "outputs": [],
   "source": [
    "df_vacinacao.replace('5','Índigena', inplace= True)"
   ]
  },
  {
   "cell_type": "code",
   "execution_count": 63,
   "id": "e12ba4c7",
   "metadata": {},
   "outputs": [],
   "source": [
    "df_vacinacao.replace('99','Sem Informação', inplace= True)"
   ]
  },
  {
   "cell_type": "code",
   "execution_count": 64,
   "id": "fb300767",
   "metadata": {},
   "outputs": [
    {
     "data": {
      "text/plain": [
       "array(['Parda', 'Preta', 'Branca', 'Sem Informação', 'Amarelo',\n",
       "       'Índigena'], dtype=object)"
      ]
     },
     "execution_count": 64,
     "metadata": {},
     "output_type": "execute_result"
    }
   ],
   "source": [
    "df_vacinacao['raca_cor'].unique()"
   ]
  },
  {
   "cell_type": "code",
   "execution_count": 65,
   "id": "0f652f5f",
   "metadata": {},
   "outputs": [],
   "source": [
    "df_vacinacao.replace('ASTRAZENECA','ASTRAZENECA/FIOCRUZ', inplace= True)"
   ]
  },
  {
   "cell_type": "code",
   "execution_count": 70,
   "id": "7d4bdcdc",
   "metadata": {},
   "outputs": [],
   "source": [
    "df_vacinacao.to_csv('vacinacao.csv', index=False)"
   ]
  },
  {
   "cell_type": "markdown",
   "id": "436469ef",
   "metadata": {},
   "source": [
    "### Processamento dos Dados"
   ]
  },
  {
   "cell_type": "code",
   "execution_count": null,
   "id": "967e2077",
   "metadata": {},
   "outputs": [],
   "source": [
    "#df_vacinacao = pd.read_csv('vacinacao.csv')"
   ]
  },
  {
   "cell_type": "code",
   "execution_count": 74,
   "id": "d2fdd24c",
   "metadata": {},
   "outputs": [
    {
     "name": "stdout",
     "output_type": "stream",
     "text": [
      "O total de vacinados analisados é de 21609, sendo 9993 homens e 11616 mulheres\n",
      "Isso representa aproximadamente 46.0% de homens e 54.0% de mulheres\n"
     ]
    }
   ],
   "source": [
    "# Percentual de Homens e Mulheres vacinados no NE\n",
    "total_pessoas = df_vacinacao['sexo'].count()\n",
    "total_homens = df_vacinacao.loc[(df_vacinacao['sexo']=='M'), 'sexo'].count()\n",
    "total_mulheres = df_vacinacao.loc[(df_vacinacao['sexo']=='F'), 'sexo'].count()\n",
    "\n",
    "print(f'O total de vacinados analisados é de {total_pessoas}, sendo {total_homens} homens e {total_mulheres} mulheres')\n",
    "print(f'Isso representa aproximadamente {round(total_homens/total_pessoas,2) *100}% de homens e {round(total_mulheres/total_pessoas,2)*100}% de mulheres')"
   ]
  },
  {
   "cell_type": "code",
   "execution_count": 83,
   "id": "40915b05",
   "metadata": {},
   "outputs": [
    {
     "name": "stdout",
     "output_type": "stream",
     "text": [
      "Total homens vacinados em AL: 1101 --> 45.86%\n",
      "Total mulheres vacinadas em AL: 1300 --> 54.14%\n",
      "\n",
      "Total homens vacinados em BA: 1136 --> 47.31%\n",
      "Total mulheres vacinadas em BA: 1265 --> 52.69%\n",
      "\n",
      "Total homens vacinados em CE: 1148 --> 47.81%\n",
      "Total mulheres vacinadas em CE: 1253 --> 52.19%\n",
      "\n",
      "Total homens vacinados em MA: 1048 --> 43.65%\n",
      "Total mulheres vacinadas em MA: 1353 --> 56.35%\n",
      "\n",
      "Total homens vacinados em PB: 1045 --> 43.52%\n",
      "Total mulheres vacinadas em PB: 1356 --> 56.48%\n",
      "\n",
      "Total homens vacinados em PE: 1107 --> 46.11%\n",
      "Total mulheres vacinadas em PE: 1294 --> 53.89%\n",
      "\n",
      "Total homens vacinados em PI: 1138 --> 47.4%\n",
      "Total mulheres vacinadas em PI: 1263 --> 52.6%\n",
      "\n",
      "Total homens vacinados em RN: 1179 --> 49.1%\n",
      "Total mulheres vacinadas em RN: 1222 --> 50.9%\n",
      "\n",
      "Total homens vacinados em SE: 1091 --> 45.44%\n",
      "Total mulheres vacinadas em SE: 1310 --> 54.56%\n",
      "\n"
     ]
    }
   ],
   "source": [
    "#vacinados por Estado do NE\n",
    "estados_ne = ('AL', 'BA', 'CE', 'MA', 'PB', 'PE', 'PI', 'RN', 'SE')\n",
    "amostra_estadual = df_vacinacao.loc[(df_vacinacao['sigla_uf']=='AL'), 'sigla_uf'].count()\n",
    "\n",
    "for i in range(len(estados_ne)):\n",
    "    homens_vacinado = df_vacinacao.loc[(df_vacinacao['sigla_uf']==estados_ne[i]) & (df_vacinacao['sexo']=='M'), 'sexo'].count()\n",
    "    print(f'Total homens vacinados em {estados_ne[i]}: {homens_vacinado} --> {round(homens_vacinado/amostra_estadual *100,2)}%')\n",
    "    mulheres_vacinada = df_vacinacao.loc[(df_vacinacao['sigla_uf']==estados_ne[i]) & (df_vacinacao['sexo']=='F'), 'sexo'].count()\n",
    "    print(f'Total mulheres vacinadas em {estados_ne[i]}: {mulheres_vacinada} --> {round(mulheres_vacinada/amostra_estadual *100,2)}%\\n')\n",
    "    "
   ]
  },
  {
   "cell_type": "markdown",
   "id": "39b48ade",
   "metadata": {},
   "source": [
    "> Segundo as análises acima, as mulheres representam 54% do total de vacinados no nordeste enquanto homens 46% da população vacinada. Na distribuição por Estados, homens do Rio Grande do Norte (RN) superam a porcentagem do nordeste com 49% de vacinados. Já a vacinação entre mulheres é liderada pelos Estados da Paraíba(PB) e Maranhão(MA) ambos com cerca de 56% de mulheres vacinadas."
   ]
  },
  {
   "cell_type": "code",
   "execution_count": 84,
   "id": "a456e55a",
   "metadata": {},
   "outputs": [
    {
     "data": {
      "text/plain": [
       "Parda             7669\n",
       "Amarelo           5788\n",
       "Branca            4058\n",
       "Sem Informação    2994\n",
       "Preta             1080\n",
       "Índigena            20\n",
       "Name: raca_cor, dtype: int64"
      ]
     },
     "execution_count": 84,
     "metadata": {},
     "output_type": "execute_result"
    }
   ],
   "source": [
    "# Total de vacinados por Raça no NE\n",
    "df_vacinacao['raca_cor'].value_counts()"
   ]
  },
  {
   "cell_type": "code",
   "execution_count": 97,
   "id": "ad06c379",
   "metadata": {},
   "outputs": [
    {
     "name": "stdout",
     "output_type": "stream",
     "text": [
      "Pardos: 35.49%\n",
      "Amarelo: 26.79%\n",
      "Branca: 18.78%\n",
      "Sem Informação: 13.86%\n",
      "Preta: 5.0%\n",
      "Índigena: 0.09%\n"
     ]
    }
   ],
   "source": [
    "total_parda = df_vacinacao.loc[(df_vacinacao['raca_cor']=='Parda'), 'raca_cor'].count()\n",
    "total_amarelo = df_vacinacao.loc[(df_vacinacao['raca_cor']=='Amarelo'), 'raca_cor'].count()\n",
    "total_branca = df_vacinacao.loc[(df_vacinacao['raca_cor']=='Branca'), 'raca_cor'].count()\n",
    "total_si = df_vacinacao.loc[(df_vacinacao['raca_cor']=='Sem Informação'), 'raca_cor'].count()\n",
    "total_preta = df_vacinacao.loc[(df_vacinacao['raca_cor']=='Preta'), 'raca_cor'].count()\n",
    "total_ind = df_vacinacao.loc[(df_vacinacao['raca_cor']=='Índigena'), 'raca_cor'].count()\n",
    "\n",
    "print(f'Pardos: {round(total_parda/total_pessoas*100,2)}%')\n",
    "print(f'Amarelo: {round(total_amarelo/total_pessoas*100,2)}%')\n",
    "print(f'Branca: {round(total_branca/total_pessoas*100,2)}%')\n",
    "print(f'Sem Informação: {round(total_si/total_pessoas*100,2)}%')\n",
    "print(f'Preta: {round(total_preta/total_pessoas*100,2)}%')\n",
    "print(f'Índigena: {round(total_ind/total_pessoas*100,2)}%')\n"
   ]
  },
  {
   "cell_type": "code",
   "execution_count": 85,
   "id": "e597d4dd",
   "metadata": {},
   "outputs": [
    {
     "name": "stdout",
     "output_type": "stream",
     "text": [
      "Total de Pardos vacinados em AL: 1518 --> 63.22%\n",
      "Total de Pardos vacinados em BA: 337 --> 14.04%\n",
      "Total de Pardos vacinados em CE: 1003 --> 41.77%\n",
      "Total de Pardos vacinados em MA: 944 --> 39.32%\n",
      "Total de Pardos vacinados em PB: 1016 --> 42.32%\n",
      "Total de Pardos vacinados em PE: 365 --> 15.2%\n",
      "Total de Pardos vacinados em PI: 518 --> 21.57%\n",
      "Total de Pardos vacinados em RN: 724 --> 30.15%\n",
      "Total de Pardos vacinados em SE: 1244 --> 51.81%\n"
     ]
    }
   ],
   "source": [
    "# População parda vacinada por Estado do NE\n",
    "\n",
    "for i in range(len(estados_ne)):\n",
    "    pardos_vacinados = df_vacinacao.loc[(df_vacinacao['sigla_uf']==estados_ne[i]) & (df_vacinacao['raca_cor']=='Parda'), 'raca_cor'].count()\n",
    "    print(f'Total de Pardos vacinados em {estados_ne[i]}: {pardos_vacinados} --> {round(pardos_vacinados/amostra_estadual *100,2)}%')\n",
    "    "
   ]
  },
  {
   "cell_type": "code",
   "execution_count": 93,
   "id": "db53480a",
   "metadata": {},
   "outputs": [
    {
     "name": "stdout",
     "output_type": "stream",
     "text": [
      "Total de Amarelos vacinados em AL: 358 --> 14.91%\n",
      "Total de Amarelos vacinados em BA: 556 --> 23.16%\n",
      "Total de Amarelos vacinados em CE: 859 --> 35.78%\n",
      "Total de Amarelos vacinados em MA: 795 --> 33.11%\n",
      "Total de Amarelos vacinados em PB: 465 --> 19.37%\n",
      "Total de Amarelos vacinados em PE: 613 --> 25.53%\n",
      "Total de Amarelos vacinados em PI: 909 --> 37.86%\n",
      "Total de Amarelos vacinados em RN: 567 --> 23.62%\n",
      "Total de Amarelos vacinados em SE: 666 --> 27.74%\n"
     ]
    }
   ],
   "source": [
    "# População Amarela vacinada por Estado do NE\n",
    "\n",
    "for i in range(len(estados_ne)):\n",
    "    amarelo_vacinados = df_vacinacao.loc[(df_vacinacao['sigla_uf']==estados_ne[i]) & (df_vacinacao['raca_cor']=='Amarelo'), 'raca_cor'].count()\n",
    "    print(f'Total de Amarelos vacinados em {estados_ne[i]}: {amarelo_vacinados} --> {round(amarelo_vacinados/amostra_estadual *100,2)}%')\n",
    "    "
   ]
  },
  {
   "cell_type": "code",
   "execution_count": 94,
   "id": "1c2a26ce",
   "metadata": {},
   "outputs": [
    {
     "name": "stdout",
     "output_type": "stream",
     "text": [
      "Total de Brancos vacinados em AL: 308 --> 12.83%\n",
      "Total de Brancos vacinados em BA: 1000 --> 41.65%\n",
      "Total de Brancos vacinados em CE: 385 --> 16.03%\n",
      "Total de Brancos vacinados em MA: 399 --> 16.62%\n",
      "Total de Brancos vacinados em PB: 410 --> 17.08%\n",
      "Total de Brancos vacinados em PE: 350 --> 14.58%\n",
      "Total de Brancos vacinados em PI: 195 --> 8.12%\n",
      "Total de Brancos vacinados em RN: 873 --> 36.36%\n",
      "Total de Brancos vacinados em SE: 138 --> 5.75%\n"
     ]
    }
   ],
   "source": [
    "# População Branco vacinada por Estado do NE\n",
    "\n",
    "for i in range(len(estados_ne)):\n",
    "    branco_vacinados = df_vacinacao.loc[(df_vacinacao['sigla_uf']==estados_ne[i]) & (df_vacinacao['raca_cor']=='Branca'), 'raca_cor'].count()\n",
    "    print(f'Total de Brancos vacinados em {estados_ne[i]}: {branco_vacinados} --> {round(branco_vacinados/amostra_estadual *100,2)}%')\n",
    "    "
   ]
  },
  {
   "cell_type": "markdown",
   "id": "8b726748",
   "metadata": {},
   "source": [
    "> Com relação ao recorte de cor e raça, a população parda lidera entre os vacinados (35,4%), seguido pelos autodeclarados amarelos e brancos. Entretanto, a vacinação nos grupos minoritários negros e indígenas é consideravelmente mais baixa, respectivamente 5% e 0.09%. \n",
    ">\n",
    "> A maior participação de pardos vacinados estão nos Estados de Alagoas(AL) e Sergipe(SE) com 63,2% e 51,8%, respectivamente.\n",
    "> A maior participação de amarelos vacinados estão nos Estados de Piauí(PI) e Ceará(CE) com 37,8% e 35,7%, respectivamente.\n",
    "> A maior participação de brancos vacinados estão nos Estados de Bahia(BA) e Rio Grande do Norte(RN) com 41,6% e 36,7%, respectivamente."
   ]
  },
  {
   "cell_type": "code",
   "execution_count": 107,
   "id": "b919ab73",
   "metadata": {},
   "outputs": [
    {
     "data": {
      "image/png": "[encoded data removed]",
      "text/plain": [
       "<Figure size 640x480 with 1 Axes>"
      ]
     },
     "metadata": {},
     "output_type": "display_data"
    }
   ],
   "source": [
    "df_vacinacao['raca_cor'].value_counts().plot(kind='bar',color= ['#E26A2C','#FF8243','#FDA65D','#BD512F', '#6F0765', '#4C0045'])\n",
    "plt.title('Quantidade de vacinas por autodeclaração de raça no NE')\n",
    "plt.xticks(rotation=45)\n",
    "plt.show()"
   ]
  },
  {
   "cell_type": "code",
   "execution_count": 42,
   "id": "dd7df6a3",
   "metadata": {},
   "outputs": [
    {
     "data": {
      "text/plain": [
       "PFIZER                 8201\n",
       "ASTRAZENECA/FIOCRUZ    7811\n",
       "SINOVAC/BUTANTAN       5329\n",
       "JANSSEN                 268\n",
       "Name: nome_fabricante, dtype: int64"
      ]
     },
     "execution_count": 42,
     "metadata": {},
     "output_type": "execute_result"
    }
   ],
   "source": [
    "df_vacinacao['nome_fabricante'].value_counts()"
   ]
  },
  {
   "cell_type": "code",
   "execution_count": 99,
   "id": "2c6e466c",
   "metadata": {},
   "outputs": [
    {
     "name": "stdout",
     "output_type": "stream",
     "text": [
      "Pfizer: 37.95%\n",
      "Astrazeneca: 36.15%\n",
      "Sinovac: 24.66%\n",
      "Janssen: 1.24%\n"
     ]
    }
   ],
   "source": [
    "total_pfizer = df_vacinacao.loc[(df_vacinacao['nome_fabricante']=='PFIZER'), 'nome_fabricante'].count()\n",
    "total_astrazeneca = df_vacinacao.loc[(df_vacinacao['nome_fabricante']=='ASTRAZENECA/FIOCRUZ'), 'nome_fabricante'].count()\n",
    "total_sinovac = df_vacinacao.loc[(df_vacinacao['nome_fabricante']=='SINOVAC/BUTANTAN'), 'nome_fabricante'].count()\n",
    "total_janssen = df_vacinacao.loc[(df_vacinacao['nome_fabricante']=='JANSSEN'), 'nome_fabricante'].count()\n",
    "\n",
    "print(f'Pfizer: {round(total_pfizer/total_pessoas*100,2)}%')\n",
    "print(f'Astrazeneca: {round(total_astrazeneca/total_pessoas*100,2)}%')\n",
    "print(f'Sinovac: {round(total_sinovac /total_pessoas*100,2)}%')\n",
    "print(f'Janssen: {round(total_janssen/total_pessoas*100,2)}%')\n"
   ]
  },
  {
   "cell_type": "code",
   "execution_count": 89,
   "id": "b53b20f3",
   "metadata": {},
   "outputs": [
    {
     "name": "stdout",
     "output_type": "stream",
     "text": [
      "Total de vacinas Pfizer aplicados em AL: 936 --> 38.98%\n",
      "Total de vacinas Pfizer aplicados em BA: 867 --> 36.11%\n",
      "Total de vacinas Pfizer aplicados em CE: 918 --> 38.23%\n",
      "Total de vacinas Pfizer aplicados em MA: 791 --> 32.94%\n",
      "Total de vacinas Pfizer aplicados em PB: 907 --> 37.78%\n",
      "Total de vacinas Pfizer aplicados em PE: 907 --> 37.78%\n",
      "Total de vacinas Pfizer aplicados em PI: 969 --> 40.36%\n",
      "Total de vacinas Pfizer aplicados em RN: 910 --> 37.9%\n",
      "Total de vacinas Pfizer aplicados em SE: 996 --> 41.48%\n"
     ]
    }
   ],
   "source": [
    " # Estados com mais vacinas Pfizer aplicadas\n",
    "\n",
    "for i in range(len(estados_ne)):\n",
    "    pfizer = df_vacinacao.loc[(df_vacinacao['sigla_uf']==estados_ne[i]) & (df_vacinacao['nome_fabricante']=='PFIZER'), 'nome_fabricante'].count()\n",
    "    print(f'Total de vacinas Pfizer aplicados em {estados_ne[i]}: {pfizer} --> {round(pfizer/amostra_estadual *100,2)}%')\n",
    "    "
   ]
  },
  {
   "cell_type": "code",
   "execution_count": 91,
   "id": "51dce698",
   "metadata": {},
   "outputs": [
    {
     "name": "stdout",
     "output_type": "stream",
     "text": [
      "Total de vacinas Astrazeneca aplicados em AL: 893 --> 37.19%\n",
      "Total de vacinas Astrazeneca aplicados em BA: 840 --> 34.99%\n",
      "Total de vacinas Astrazeneca aplicados em CE: 825 --> 34.36%\n",
      "Total de vacinas Astrazeneca aplicados em MA: 1116 --> 46.48%\n",
      "Total de vacinas Astrazeneca aplicados em PB: 791 --> 32.94%\n",
      "Total de vacinas Astrazeneca aplicados em PE: 844 --> 35.15%\n",
      "Total de vacinas Astrazeneca aplicados em PI: 828 --> 34.49%\n",
      "Total de vacinas Astrazeneca aplicados em RN: 837 --> 34.86%\n",
      "Total de vacinas Astrazeneca aplicados em SE: 837 --> 34.86%\n"
     ]
    }
   ],
   "source": [
    " # Estados com mais vacinas Astrazeneca aplicadas\n",
    "\n",
    "for i in range(len(estados_ne)):\n",
    "    astrazeneca = df_vacinacao.loc[(df_vacinacao['sigla_uf']==estados_ne[i]) & (df_vacinacao['nome_fabricante']=='ASTRAZENECA/FIOCRUZ'), 'nome_fabricante'].count()\n",
    "    print(f'Total de vacinas Astrazeneca aplicados em {estados_ne[i]}: {astrazeneca} --> {round(astrazeneca/amostra_estadual *100,2)}%')\n",
    "    "
   ]
  },
  {
   "cell_type": "markdown",
   "id": "64dca146",
   "metadata": {},
   "source": [
    "> No cenário das fabricantes de vacinas contra COVID-19 é possível perceber que as doses foram majoritariamente da Pfizer e Astrazeneca/Fiocruz, com respectivamente 37,95% e 36,15%.\n",
    ">\n",
    "> A Pfizer foi aplicada principalmente, dentre os Estados do NE, no Estado de Sergipe(SE) e Piauí(PI) com 41,4% e 40,3% respectivamente. Já a Astrazeneca/Fiocruz concentrou-se no Estado do Maranhã(MA) com 46,4%"
   ]
  },
  {
   "cell_type": "code",
   "execution_count": 106,
   "id": "6b110767",
   "metadata": {},
   "outputs": [
    {
     "data": {
      "image/png": "[encoded data removed]",
      "text/plain": [
       "<Figure size 640x480 with 1 Axes>"
      ]
     },
     "metadata": {},
     "output_type": "display_data"
    }
   ],
   "source": [
    "df_vacinacao['nome_fabricante'].value_counts().plot(kind='bar',color= ['#E26A2C','#FF8243','#FDA65D','#FFD07F'])\n",
    "plt.title('Quantidade de vacinas por fabricante no NE')\n",
    "plt.xticks(rotation=45)\n",
    "plt.show()"
   ]
  },
  {
   "cell_type": "markdown",
   "id": "b884c3cb",
   "metadata": {},
   "source": [
    "### Gráficos"
   ]
  },
  {
   "cell_type": "code",
   "execution_count": 54,
   "id": "86a6abed",
   "metadata": {},
   "outputs": [
    {
     "data": {
      "image/png": "[encoded data removed]",
      "text/plain": [
       "<Figure size 640x480 with 1 Axes>"
      ]
     },
     "metadata": {},
     "output_type": "display_data"
    }
   ],
   "source": [
    "df_vacinacao['dose'].value_counts().plot(kind='bar',color= ['#E26A2C','#FF8243','#FDA65D'])\n",
    "plt.title('Doses aplicadas no NE')\n",
    "plt.xticks(rotation=45)\n",
    "plt.show()"
   ]
  },
  {
   "cell_type": "code",
   "execution_count": 44,
   "id": "7afd181f",
   "metadata": {},
   "outputs": [
    {
     "data": {
      "text/html": [
       "<div>\n",
       "<style scoped>\n",
       "    .dataframe tbody tr th:only-of-type {\n",
       "        vertical-align: middle;\n",
       "    }\n",
       "\n",
       "    .dataframe tbody tr th {\n",
       "        vertical-align: top;\n",
       "    }\n",
       "\n",
       "    .dataframe thead th {\n",
       "        text-align: right;\n",
       "    }\n",
       "</style>\n",
       "<table border=\"1\" class=\"dataframe\">\n",
       "  <thead>\n",
       "    <tr style=\"text-align: right;\">\n",
       "      <th></th>\n",
       "      <th>sigla_uf</th>\n",
       "      <th>nome_fabricante</th>\n",
       "      <th>dose</th>\n",
       "      <th>sigla_uf_endereco</th>\n",
       "      <th>sexo</th>\n",
       "      <th>raca_cor</th>\n",
       "    </tr>\n",
       "    <tr>\n",
       "      <th>data_aplicacao</th>\n",
       "      <th></th>\n",
       "      <th></th>\n",
       "      <th></th>\n",
       "      <th></th>\n",
       "      <th></th>\n",
       "      <th></th>\n",
       "    </tr>\n",
       "  </thead>\n",
       "  <tbody>\n",
       "    <tr>\n",
       "      <th>2020-03-23</th>\n",
       "      <td>3</td>\n",
       "      <td>3</td>\n",
       "      <td>3</td>\n",
       "      <td>3</td>\n",
       "      <td>3</td>\n",
       "      <td>3</td>\n",
       "    </tr>\n",
       "    <tr>\n",
       "      <th>2021-01-19</th>\n",
       "      <td>4</td>\n",
       "      <td>4</td>\n",
       "      <td>4</td>\n",
       "      <td>4</td>\n",
       "      <td>4</td>\n",
       "      <td>4</td>\n",
       "    </tr>\n",
       "    <tr>\n",
       "      <th>2021-01-20</th>\n",
       "      <td>13</td>\n",
       "      <td>13</td>\n",
       "      <td>13</td>\n",
       "      <td>13</td>\n",
       "      <td>13</td>\n",
       "      <td>13</td>\n",
       "    </tr>\n",
       "    <tr>\n",
       "      <th>2021-01-21</th>\n",
       "      <td>11</td>\n",
       "      <td>11</td>\n",
       "      <td>11</td>\n",
       "      <td>11</td>\n",
       "      <td>11</td>\n",
       "      <td>11</td>\n",
       "    </tr>\n",
       "    <tr>\n",
       "      <th>2021-01-22</th>\n",
       "      <td>12</td>\n",
       "      <td>12</td>\n",
       "      <td>12</td>\n",
       "      <td>12</td>\n",
       "      <td>12</td>\n",
       "      <td>12</td>\n",
       "    </tr>\n",
       "    <tr>\n",
       "      <th>...</th>\n",
       "      <td>...</td>\n",
       "      <td>...</td>\n",
       "      <td>...</td>\n",
       "      <td>...</td>\n",
       "      <td>...</td>\n",
       "      <td>...</td>\n",
       "    </tr>\n",
       "    <tr>\n",
       "      <th>2022-01-10</th>\n",
       "      <td>13</td>\n",
       "      <td>13</td>\n",
       "      <td>13</td>\n",
       "      <td>13</td>\n",
       "      <td>13</td>\n",
       "      <td>13</td>\n",
       "    </tr>\n",
       "    <tr>\n",
       "      <th>2022-01-11</th>\n",
       "      <td>21</td>\n",
       "      <td>21</td>\n",
       "      <td>21</td>\n",
       "      <td>21</td>\n",
       "      <td>21</td>\n",
       "      <td>21</td>\n",
       "    </tr>\n",
       "    <tr>\n",
       "      <th>2022-01-12</th>\n",
       "      <td>19</td>\n",
       "      <td>19</td>\n",
       "      <td>19</td>\n",
       "      <td>19</td>\n",
       "      <td>19</td>\n",
       "      <td>19</td>\n",
       "    </tr>\n",
       "    <tr>\n",
       "      <th>2022-01-13</th>\n",
       "      <td>14</td>\n",
       "      <td>14</td>\n",
       "      <td>14</td>\n",
       "      <td>14</td>\n",
       "      <td>14</td>\n",
       "      <td>14</td>\n",
       "    </tr>\n",
       "    <tr>\n",
       "      <th>2022-01-14</th>\n",
       "      <td>2</td>\n",
       "      <td>2</td>\n",
       "      <td>2</td>\n",
       "      <td>2</td>\n",
       "      <td>2</td>\n",
       "      <td>2</td>\n",
       "    </tr>\n",
       "  </tbody>\n",
       "</table>\n",
       "<p>354 rows × 6 columns</p>\n",
       "</div>"
      ],
      "text/plain": [
       "                sigla_uf  nome_fabricante  dose  sigla_uf_endereco  sexo  \\\n",
       "data_aplicacao                                                             \n",
       "2020-03-23             3                3     3                  3     3   \n",
       "2021-01-19             4                4     4                  4     4   \n",
       "2021-01-20            13               13    13                 13    13   \n",
       "2021-01-21            11               11    11                 11    11   \n",
       "2021-01-22            12               12    12                 12    12   \n",
       "...                  ...              ...   ...                ...   ...   \n",
       "2022-01-10            13               13    13                 13    13   \n",
       "2022-01-11            21               21    21                 21    21   \n",
       "2022-01-12            19               19    19                 19    19   \n",
       "2022-01-13            14               14    14                 14    14   \n",
       "2022-01-14             2                2     2                  2     2   \n",
       "\n",
       "                raca_cor  \n",
       "data_aplicacao            \n",
       "2020-03-23             3  \n",
       "2021-01-19             4  \n",
       "2021-01-20            13  \n",
       "2021-01-21            11  \n",
       "2021-01-22            12  \n",
       "...                  ...  \n",
       "2022-01-10            13  \n",
       "2022-01-11            21  \n",
       "2022-01-12            19  \n",
       "2022-01-13            14  \n",
       "2022-01-14             2  \n",
       "\n",
       "[354 rows x 6 columns]"
      ]
     },
     "execution_count": 44,
     "metadata": {},
     "output_type": "execute_result"
    }
   ],
   "source": [
    "df_male = df_vacinacao[df_vacinacao['sexo'] == 'M'].groupby('data_aplicacao').count()\n",
    "df_female = df_vacinacao[df_vacinacao['sexo'] == 'F'].groupby('data_aplicacao').count()\n",
    "df_female"
   ]
  },
  {
   "cell_type": "code",
   "execution_count": 71,
   "id": "718a08b3",
   "metadata": {},
   "outputs": [
    {
     "ename": "ValueError",
     "evalue": "x and y must have same first dimension, but have shapes (354,) and (349,)",
     "output_type": "error",
     "traceback": [
      "\u001b[1;31m---------------------------------------------------------------------------\u001b[0m",
      "\u001b[1;31mValueError\u001b[0m                                Traceback (most recent call last)",
      "Input \u001b[1;32mIn [71]\u001b[0m, in \u001b[0;36m<cell line: 7>\u001b[1;34m()\u001b[0m\n\u001b[0;32m      4\u001b[0m ax1 \u001b[38;5;241m=\u001b[39m plt\u001b[38;5;241m.\u001b[39mgca() \n\u001b[0;32m      5\u001b[0m ax2 \u001b[38;5;241m=\u001b[39m ax1\u001b[38;5;241m.\u001b[39mtwinx()\n\u001b[1;32m----> 7\u001b[0m \u001b[43max1\u001b[49m\u001b[38;5;241;43m.\u001b[39;49m\u001b[43mplot\u001b[49m\u001b[43m(\u001b[49m\u001b[43mdf_female\u001b[49m\u001b[38;5;241;43m.\u001b[39;49m\u001b[43mindex\u001b[49m\u001b[43m,\u001b[49m\u001b[43m \u001b[49m\u001b[43mdf_male\u001b[49m\u001b[43m[\u001b[49m\u001b[38;5;124;43m'\u001b[39;49m\u001b[38;5;124;43msexo\u001b[39;49m\u001b[38;5;124;43m'\u001b[39;49m\u001b[43m]\u001b[49m\u001b[38;5;241;43m.\u001b[39;49m\u001b[43mcumsum\u001b[49m\u001b[43m(\u001b[49m\u001b[43maxis\u001b[49m\u001b[43m \u001b[49m\u001b[38;5;241;43m=\u001b[39;49m\u001b[43m \u001b[49m\u001b[38;5;241;43m0\u001b[39;49m\u001b[43m)\u001b[49m\u001b[43m,\u001b[49m\u001b[43mcolor\u001b[49m\u001b[43m \u001b[49m\u001b[38;5;241;43m=\u001b[39;49m\u001b[43m \u001b[49m\u001b[38;5;124;43m'\u001b[39;49m\u001b[38;5;124;43m#FDA65D\u001b[39;49m\u001b[38;5;124;43m'\u001b[39;49m\u001b[43m)\u001b[49m\n\u001b[0;32m      8\u001b[0m ax2\u001b[38;5;241m.\u001b[39mplot(df_female\u001b[38;5;241m.\u001b[39mindex, df_female[\u001b[38;5;124m'\u001b[39m\u001b[38;5;124msexo\u001b[39m\u001b[38;5;124m'\u001b[39m]\u001b[38;5;241m.\u001b[39mcumsum(axis \u001b[38;5;241m=\u001b[39m \u001b[38;5;241m0\u001b[39m), color \u001b[38;5;241m=\u001b[39m \u001b[38;5;124m'\u001b[39m\u001b[38;5;124m#E26A2C\u001b[39m\u001b[38;5;124m'\u001b[39m)\n\u001b[0;32m     10\u001b[0m ax1\u001b[38;5;241m.\u001b[39mset_xlabel(\u001b[38;5;124m'\u001b[39m\u001b[38;5;124mData\u001b[39m\u001b[38;5;124m'\u001b[39m)\n",
      "File \u001b[1;32m~\\anaconda3\\lib\\site-packages\\matplotlib\\axes\\_axes.py:1632\u001b[0m, in \u001b[0;36mAxes.plot\u001b[1;34m(self, scalex, scaley, data, *args, **kwargs)\u001b[0m\n\u001b[0;32m   1390\u001b[0m \u001b[38;5;124;03m\"\"\"\u001b[39;00m\n\u001b[0;32m   1391\u001b[0m \u001b[38;5;124;03mPlot y versus x as lines and/or markers.\u001b[39;00m\n\u001b[0;32m   1392\u001b[0m \n\u001b[1;32m   (...)\u001b[0m\n\u001b[0;32m   1629\u001b[0m \u001b[38;5;124;03m(``'green'``) or hex strings (``'#008000'``).\u001b[39;00m\n\u001b[0;32m   1630\u001b[0m \u001b[38;5;124;03m\"\"\"\u001b[39;00m\n\u001b[0;32m   1631\u001b[0m kwargs \u001b[38;5;241m=\u001b[39m cbook\u001b[38;5;241m.\u001b[39mnormalize_kwargs(kwargs, mlines\u001b[38;5;241m.\u001b[39mLine2D)\n\u001b[1;32m-> 1632\u001b[0m lines \u001b[38;5;241m=\u001b[39m [\u001b[38;5;241m*\u001b[39m\u001b[38;5;28mself\u001b[39m\u001b[38;5;241m.\u001b[39m_get_lines(\u001b[38;5;241m*\u001b[39margs, data\u001b[38;5;241m=\u001b[39mdata, \u001b[38;5;241m*\u001b[39m\u001b[38;5;241m*\u001b[39mkwargs)]\n\u001b[0;32m   1633\u001b[0m \u001b[38;5;28;01mfor\u001b[39;00m line \u001b[38;5;129;01min\u001b[39;00m lines:\n\u001b[0;32m   1634\u001b[0m     \u001b[38;5;28mself\u001b[39m\u001b[38;5;241m.\u001b[39madd_line(line)\n",
      "File \u001b[1;32m~\\anaconda3\\lib\\site-packages\\matplotlib\\axes\\_base.py:312\u001b[0m, in \u001b[0;36m_process_plot_var_args.__call__\u001b[1;34m(self, data, *args, **kwargs)\u001b[0m\n\u001b[0;32m    310\u001b[0m     this \u001b[38;5;241m+\u001b[39m\u001b[38;5;241m=\u001b[39m args[\u001b[38;5;241m0\u001b[39m],\n\u001b[0;32m    311\u001b[0m     args \u001b[38;5;241m=\u001b[39m args[\u001b[38;5;241m1\u001b[39m:]\n\u001b[1;32m--> 312\u001b[0m \u001b[38;5;28;01myield from\u001b[39;00m \u001b[38;5;28;43mself\u001b[39;49m\u001b[38;5;241;43m.\u001b[39;49m\u001b[43m_plot_args\u001b[49m\u001b[43m(\u001b[49m\u001b[43mthis\u001b[49m\u001b[43m,\u001b[49m\u001b[43m \u001b[49m\u001b[43mkwargs\u001b[49m\u001b[43m)\u001b[49m\n",
      "File \u001b[1;32m~\\anaconda3\\lib\\site-packages\\matplotlib\\axes\\_base.py:498\u001b[0m, in \u001b[0;36m_process_plot_var_args._plot_args\u001b[1;34m(self, tup, kwargs, return_kwargs)\u001b[0m\n\u001b[0;32m    495\u001b[0m     \u001b[38;5;28mself\u001b[39m\u001b[38;5;241m.\u001b[39maxes\u001b[38;5;241m.\u001b[39myaxis\u001b[38;5;241m.\u001b[39mupdate_units(y)\n\u001b[0;32m    497\u001b[0m \u001b[38;5;28;01mif\u001b[39;00m x\u001b[38;5;241m.\u001b[39mshape[\u001b[38;5;241m0\u001b[39m] \u001b[38;5;241m!=\u001b[39m y\u001b[38;5;241m.\u001b[39mshape[\u001b[38;5;241m0\u001b[39m]:\n\u001b[1;32m--> 498\u001b[0m     \u001b[38;5;28;01mraise\u001b[39;00m \u001b[38;5;167;01mValueError\u001b[39;00m(\u001b[38;5;124mf\u001b[39m\u001b[38;5;124m\"\u001b[39m\u001b[38;5;124mx and y must have same first dimension, but \u001b[39m\u001b[38;5;124m\"\u001b[39m\n\u001b[0;32m    499\u001b[0m                      \u001b[38;5;124mf\u001b[39m\u001b[38;5;124m\"\u001b[39m\u001b[38;5;124mhave shapes \u001b[39m\u001b[38;5;132;01m{\u001b[39;00mx\u001b[38;5;241m.\u001b[39mshape\u001b[38;5;132;01m}\u001b[39;00m\u001b[38;5;124m and \u001b[39m\u001b[38;5;132;01m{\u001b[39;00my\u001b[38;5;241m.\u001b[39mshape\u001b[38;5;132;01m}\u001b[39;00m\u001b[38;5;124m\"\u001b[39m)\n\u001b[0;32m    500\u001b[0m \u001b[38;5;28;01mif\u001b[39;00m x\u001b[38;5;241m.\u001b[39mndim \u001b[38;5;241m>\u001b[39m \u001b[38;5;241m2\u001b[39m \u001b[38;5;129;01mor\u001b[39;00m y\u001b[38;5;241m.\u001b[39mndim \u001b[38;5;241m>\u001b[39m \u001b[38;5;241m2\u001b[39m:\n\u001b[0;32m    501\u001b[0m     \u001b[38;5;28;01mraise\u001b[39;00m \u001b[38;5;167;01mValueError\u001b[39;00m(\u001b[38;5;124mf\u001b[39m\u001b[38;5;124m\"\u001b[39m\u001b[38;5;124mx and y can be no greater than 2D, but have \u001b[39m\u001b[38;5;124m\"\u001b[39m\n\u001b[0;32m    502\u001b[0m                      \u001b[38;5;124mf\u001b[39m\u001b[38;5;124m\"\u001b[39m\u001b[38;5;124mshapes \u001b[39m\u001b[38;5;132;01m{\u001b[39;00mx\u001b[38;5;241m.\u001b[39mshape\u001b[38;5;132;01m}\u001b[39;00m\u001b[38;5;124m and \u001b[39m\u001b[38;5;132;01m{\u001b[39;00my\u001b[38;5;241m.\u001b[39mshape\u001b[38;5;132;01m}\u001b[39;00m\u001b[38;5;124m\"\u001b[39m)\n",
      "\u001b[1;31mValueError\u001b[0m: x and y must have same first dimension, but have shapes (354,) and (349,)"
     ]
    }
   ],
   "source": [
    "plt.figure(figsize=(14,8), dpi=120)\n",
    "plt.title(\"Vacinados entre Homens e Mulhers\")\n",
    "\n",
    "ax1 = plt.gca() \n",
    "ax2 = ax1.twinx()\n",
    "\n",
    "ax1.plot(df_female.index, df_male['sexo'].cumsum(axis = 0),color = '#FDA65D')\n",
    "ax2.plot(df_female.index, df_female['sexo'].cumsum(axis = 0), color = '#E26A2C')\n",
    "\n",
    "ax1.set_xlabel('Data')\n",
    "ax1.set_ylabel('Homens', color = '#FDA65D')\n",
    "ax2.set_ylabel('Mulheres', color = '#E26A2C')\n",
    "\n",
    "plt.show()"
   ]
  },
  {
   "cell_type": "code",
   "execution_count": 105,
   "id": "fa89fa75",
   "metadata": {},
   "outputs": [
    {
     "data": {
      "text/html": [
       "<div>\n",
       "<style scoped>\n",
       "    .dataframe tbody tr th:only-of-type {\n",
       "        vertical-align: middle;\n",
       "    }\n",
       "\n",
       "    .dataframe tbody tr th {\n",
       "        vertical-align: top;\n",
       "    }\n",
       "\n",
       "    .dataframe thead th {\n",
       "        text-align: right;\n",
       "    }\n",
       "</style>\n",
       "<table border=\"1\" class=\"dataframe\">\n",
       "  <thead>\n",
       "    <tr style=\"text-align: right;\">\n",
       "      <th></th>\n",
       "      <th>sigla_uf</th>\n",
       "      <th>nome_fabricante</th>\n",
       "      <th>data_aplicacao</th>\n",
       "      <th>dose</th>\n",
       "      <th>sigla_uf_endereco</th>\n",
       "      <th>sexo</th>\n",
       "      <th>raca_cor</th>\n",
       "    </tr>\n",
       "  </thead>\n",
       "  <tbody>\n",
       "    <tr>\n",
       "      <th>6338</th>\n",
       "      <td>CE</td>\n",
       "      <td>ASTRAZENECA/FIOCRUZ</td>\n",
       "      <td>2020-03-23</td>\n",
       "      <td>1ª Dose</td>\n",
       "      <td>CE</td>\n",
       "      <td>M</td>\n",
       "      <td>Parda</td>\n",
       "    </tr>\n",
       "    <tr>\n",
       "      <th>6223</th>\n",
       "      <td>CE</td>\n",
       "      <td>ASTRAZENECA/FIOCRUZ</td>\n",
       "      <td>2020-03-23</td>\n",
       "      <td>1ª Dose</td>\n",
       "      <td>CE</td>\n",
       "      <td>F</td>\n",
       "      <td>Amarelo</td>\n",
       "    </tr>\n",
       "    <tr>\n",
       "      <th>5921</th>\n",
       "      <td>CE</td>\n",
       "      <td>PFIZER</td>\n",
       "      <td>2020-03-23</td>\n",
       "      <td>1ª Dose</td>\n",
       "      <td>CE</td>\n",
       "      <td>M</td>\n",
       "      <td>Branca</td>\n",
       "    </tr>\n",
       "    <tr>\n",
       "      <th>6271</th>\n",
       "      <td>CE</td>\n",
       "      <td>ASTRAZENECA/FIOCRUZ</td>\n",
       "      <td>2020-03-23</td>\n",
       "      <td>1ª Dose</td>\n",
       "      <td>CE</td>\n",
       "      <td>F</td>\n",
       "      <td>Parda</td>\n",
       "    </tr>\n",
       "    <tr>\n",
       "      <th>6320</th>\n",
       "      <td>CE</td>\n",
       "      <td>ASTRAZENECA/FIOCRUZ</td>\n",
       "      <td>2020-03-23</td>\n",
       "      <td>1ª Dose</td>\n",
       "      <td>CE</td>\n",
       "      <td>F</td>\n",
       "      <td>Amarelo</td>\n",
       "    </tr>\n",
       "    <tr>\n",
       "      <th>...</th>\n",
       "      <td>...</td>\n",
       "      <td>...</td>\n",
       "      <td>...</td>\n",
       "      <td>...</td>\n",
       "      <td>...</td>\n",
       "      <td>...</td>\n",
       "      <td>...</td>\n",
       "    </tr>\n",
       "    <tr>\n",
       "      <th>894</th>\n",
       "      <td>AL</td>\n",
       "      <td>PFIZER</td>\n",
       "      <td>2022-01-13</td>\n",
       "      <td>2ª Dose</td>\n",
       "      <td>AL</td>\n",
       "      <td>F</td>\n",
       "      <td>Parda</td>\n",
       "    </tr>\n",
       "    <tr>\n",
       "      <th>675</th>\n",
       "      <td>AL</td>\n",
       "      <td>PFIZER</td>\n",
       "      <td>2022-01-14</td>\n",
       "      <td>2ª Dose</td>\n",
       "      <td>AL</td>\n",
       "      <td>M</td>\n",
       "      <td>Parda</td>\n",
       "    </tr>\n",
       "    <tr>\n",
       "      <th>21467</th>\n",
       "      <td>SE</td>\n",
       "      <td>PFIZER</td>\n",
       "      <td>2022-01-14</td>\n",
       "      <td>2ª Dose</td>\n",
       "      <td>SE</td>\n",
       "      <td>F</td>\n",
       "      <td>Amarelo</td>\n",
       "    </tr>\n",
       "    <tr>\n",
       "      <th>13816</th>\n",
       "      <td>PE</td>\n",
       "      <td>PFIZER</td>\n",
       "      <td>2022-01-14</td>\n",
       "      <td>2ª Dose</td>\n",
       "      <td>PE</td>\n",
       "      <td>F</td>\n",
       "      <td>Sem Informação</td>\n",
       "    </tr>\n",
       "    <tr>\n",
       "      <th>21236</th>\n",
       "      <td>SE</td>\n",
       "      <td>PFIZER</td>\n",
       "      <td>2022-01-14</td>\n",
       "      <td>2ª Dose</td>\n",
       "      <td>SE</td>\n",
       "      <td>M</td>\n",
       "      <td>Sem Informação</td>\n",
       "    </tr>\n",
       "  </tbody>\n",
       "</table>\n",
       "<p>21609 rows × 7 columns</p>\n",
       "</div>"
      ],
      "text/plain": [
       "      sigla_uf      nome_fabricante data_aplicacao     dose sigla_uf_endereco  \\\n",
       "6338        CE  ASTRAZENECA/FIOCRUZ     2020-03-23  1ª Dose                CE   \n",
       "6223        CE  ASTRAZENECA/FIOCRUZ     2020-03-23  1ª Dose                CE   \n",
       "5921        CE               PFIZER     2020-03-23  1ª Dose                CE   \n",
       "6271        CE  ASTRAZENECA/FIOCRUZ     2020-03-23  1ª Dose                CE   \n",
       "6320        CE  ASTRAZENECA/FIOCRUZ     2020-03-23  1ª Dose                CE   \n",
       "...        ...                  ...            ...      ...               ...   \n",
       "894         AL               PFIZER     2022-01-13  2ª Dose                AL   \n",
       "675         AL               PFIZER     2022-01-14  2ª Dose                AL   \n",
       "21467       SE               PFIZER     2022-01-14  2ª Dose                SE   \n",
       "13816       PE               PFIZER     2022-01-14  2ª Dose                PE   \n",
       "21236       SE               PFIZER     2022-01-14  2ª Dose                SE   \n",
       "\n",
       "      sexo        raca_cor  \n",
       "6338     M           Parda  \n",
       "6223     F         Amarelo  \n",
       "5921     M          Branca  \n",
       "6271     F           Parda  \n",
       "6320     F         Amarelo  \n",
       "...    ...             ...  \n",
       "894      F           Parda  \n",
       "675      M           Parda  \n",
       "21467    F         Amarelo  \n",
       "13816    F  Sem Informação  \n",
       "21236    M  Sem Informação  \n",
       "\n",
       "[21609 rows x 7 columns]"
      ]
     },
     "execution_count": 105,
     "metadata": {},
     "output_type": "execute_result"
    }
   ],
   "source": [
    "df_vacinacao.sort_values('data_aplicacao')"
   ]
  },
  {
   "cell_type": "code",
   "execution_count": null,
   "id": "c5388a91",
   "metadata": {},
   "outputs": [],
   "source": []
  },
  {
   "cell_type": "code",
   "execution_count": null,
   "id": "e7d3d0e1",
   "metadata": {},
   "outputs": [],
   "source": []
  }
 ],
 "metadata": {
  "kernelspec": {
   "display_name": "Python 3",
   "language": "python",
   "name": "python3"
  },
  "language_info": {
   "codemirror_mode": {
    "name": "ipython",
    "version": 3
   },
   "file_extension": ".py",
   "mimetype": "text/x-python",
   "name": "python",
   "nbconvert_exporter": "python",
   "pygments_lexer": "ipython3",
   "version": "3.9.12"
  }
 },
 "nbformat": 4,
 "nbformat_minor": 5
}
