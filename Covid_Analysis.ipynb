{
 "cells": [
  {
   "cell_type": "code",
   "execution_count": 100,
   "id": "0ebab91b",
   "metadata": {},
   "outputs": [],
   "source": [
    "# -------------------- READ ME -------------------- #\n",
    "\n",
    "# CAMINHO 1\n",
    "# Para rodar esse arquivo você deve instalar o pip abaixo.\n",
    "# Além disso, ter uma conta na google cloud e em \"billing_project_id\" colocar o ID do seu projeto\n",
    "\n",
    "# CAMINHO 2\n",
    "# Caso não deseje fazer instalações e demais, ao final na Análise Exploratória dos Dados é gerado um arquivo .csv\n",
    "# Você pode executar o código a partir da seção Processamento dos Dados\n",
    "# Lembre-se de executar as Bibliotecas !\n",
    "\n",
    "# ------------------------------------------------- #"
   ]
  },
  {
   "cell_type": "code",
   "execution_count": 1,
   "id": "af1f9c98",
   "metadata": {},
   "outputs": [],
   "source": [
    "#!pip install basedosdados"
   ]
  },
  {
   "cell_type": "markdown",
   "id": "c18ad619",
   "metadata": {},
   "source": [
    "### Introdução\n",
    "\n",
    "Essa análise faz parte do projeto final do curso de Técnicas de Programação I da Let's Code from Ada do programa Diversidade Tech\n",
    "\n",
    "### Conceito\n",
    "\n",
    "O projeto tem como finalidade analisar os dados de vacinação contra COVID-19 dos Estados do Nordeste no período de 2021, trazendo visibilidade sobre gênero, raça/cor e fabricantes das vacinas aplicadas nos 09 Estados que compõe a região do nordeste do Brasil.\n",
    "\n",
    "Base: [Base dos Dados](https://basedosdados.org/dataset/br-ms-vacinacao-covid19?bdm_table=microdados_vacinacao)\n",
    "Cores: [Paleta 1](https://colorhunt.co/palette/e26a2cff8243fda65dffd07f) | [Paleta 2](https://colorhunt.co/palette/6f07654c0045bd512fffb228)"
   ]
  },
  {
   "cell_type": "markdown",
   "id": "790cbfcf",
   "metadata": {},
   "source": [
    "### Bibliotecas"
   ]
  },
  {
   "cell_type": "code",
   "execution_count": 2,
   "id": "e05b15ce",
   "metadata": {},
   "outputs": [],
   "source": [
    "import basedosdados as bd\n",
    "import pandas as pd\n",
    "import matplotlib.pyplot as plt"
   ]
  },
  {
   "cell_type": "markdown",
   "id": "b63128b6",
   "metadata": {},
   "source": [
    "#### Definindo Tamanho da Amostra\n",
    "\n",
    "Por conta do custo computacional para carregar as análises, foi calculado um tamanho de amostra que representasse os vacinados contra COVID-19 para cada Estado da região nordeste."
   ]
  },
  {
   "cell_type": "code",
   "execution_count": 3,
   "id": "927aaa1c",
   "metadata": {},
   "outputs": [
    {
     "name": "stdout",
     "output_type": "stream",
     "text": [
      "Tamanho da amostra 2401.0\n"
     ]
    }
   ],
   "source": [
    "z = 1.96 #Z-score para 95% de confiança\n",
    "e = 0.02 #2% de margem de erro \n",
    "p = 0.5 #50% desvio padrão \n",
    "\n",
    "sample_size = ((z ** 2) *p*(1-p))/(e**2)\n",
    "print(f'Tamanho da amostra {round(sample_size,1)}')"
   ]
  },
  {
   "cell_type": "markdown",
   "id": "8cedd14a",
   "metadata": {},
   "source": [
    "### Dados de Doses de Vacina no NE "
   ]
  },
  {
   "cell_type": "code",
   "execution_count": 14,
   "id": "edc19a60",
   "metadata": {},
   "outputs": [],
   "source": [
    "query_vacina = \"(SELECT estado_ma.sigla_uf, estado_ma.nome_fabricante, estado_ma.data_aplicacao, estado_ma.dose FROM `basedosdados.br_ms_vacinacao_covid19.microdados_vacinacao` as estado_ma WHERE estado_ma.sigla_uf = 'MA' AND estado_ma.data_aplicacao > '2021-01-01' LIMIT 2401) \\\n",
    "UNION ALL \\\n",
    "(SELECT estado_ce.sigla_uf, estado_ce.nome_fabricante, estado_ce.data_aplicacao, estado_ce.dose FROM `basedosdados.br_ms_vacinacao_covid19.microdados_vacinacao` as estado_ce WHERE estado_ce.sigla_uf = 'CE' AND estado_ce.data_aplicacao > '2021-01-01' LIMIT 2401)\\\n",
    "UNION ALL \\\n",
    "(SELECT estado_rn.sigla_uf, estado_rn.nome_fabricante, estado_rn.data_aplicacao, estado_rn.dose FROM `basedosdados.br_ms_vacinacao_covid19.microdados_vacinacao` as estado_rn WHERE estado_rn.sigla_uf = 'RN' AND estado_rn.data_aplicacao > '2021-01-01' LIMIT 2401) \\\n",
    "UNION ALL \\\n",
    "(SELECT estado_pb.sigla_uf, estado_pb.nome_fabricante, estado_pb.data_aplicacao, estado_pb.dose FROM `basedosdados.br_ms_vacinacao_covid19.microdados_vacinacao` as estado_pb WHERE estado_pb.sigla_uf = 'PB' AND estado_pb.data_aplicacao > '2021-01-01' LIMIT 2401) \\\n",
    "UNION ALL \\\n",
    "(SELECT estado_pe.sigla_uf, estado_pe.nome_fabricante, estado_pe.data_aplicacao, estado_pe.dose FROM `basedosdados.br_ms_vacinacao_covid19.microdados_vacinacao` as estado_pe WHERE estado_pe.sigla_uf = 'PE' AND estado_pe.data_aplicacao > '2021-01-01' LIMIT 2401) \\\n",
    "UNION ALL \\\n",
    "(SELECT estado_al.sigla_uf, estado_al.nome_fabricante, estado_al.data_aplicacao, estado_al.dose FROM `basedosdados.br_ms_vacinacao_covid19.microdados_vacinacao` as estado_al WHERE estado_al.sigla_uf = 'AL' AND estado_al.data_aplicacao > '2021-01-01' LIMIT 2401) \\\n",
    "UNION ALL \\\n",
    "(SELECT estado_se.sigla_uf, estado_se.nome_fabricante, estado_se.data_aplicacao, estado_se.dose FROM `basedosdados.br_ms_vacinacao_covid19.microdados_vacinacao` as estado_se WHERE estado_se.sigla_uf = 'SE' AND estado_se.data_aplicacao > '2021-01-01' LIMIT 2401) \\\n",
    "UNION ALL \\\n",
    "(SELECT estado_ba.sigla_uf, estado_ba.nome_fabricante, estado_ba.data_aplicacao, estado_ba.dose FROM `basedosdados.br_ms_vacinacao_covid19.microdados_vacinacao` as estado_ba WHERE estado_ba.sigla_uf = 'BA' AND estado_ba.data_aplicacao > '2021-01-01' LIMIT 2401) \\\n",
    "UNION ALL \\\n",
    "(SELECT estado_pi.sigla_uf, estado_pi.nome_fabricante, estado_pi.data_aplicacao, estado_pi.dose FROM `basedosdados.br_ms_vacinacao_covid19.microdados_vacinacao` as estado_pi WHERE estado_pi.sigla_uf = 'PI' AND estado_pi.data_aplicacao > '2021-01-01' LIMIT 2401)\""
   ]
  },
  {
   "cell_type": "code",
   "execution_count": 15,
   "id": "cb5134f7",
   "metadata": {},
   "outputs": [
    {
     "name": "stderr",
     "output_type": "stream",
     "text": [
      "Downloading: 100%|██████████| 21609/21609 [00:01<00:00, 16622.42rows/s]\n"
     ]
    }
   ],
   "source": [
    "df = bd.read_sql(query = query_vacina, billing_project_id='YOUR_PROJECT_ID')"
   ]
  },
  {
   "cell_type": "code",
   "execution_count": 16,
   "id": "06fe1c55",
   "metadata": {},
   "outputs": [
    {
     "data": {
      "text/html": [
       "<div>\n",
       "<style scoped>\n",
       "    .dataframe tbody tr th:only-of-type {\n",
       "        vertical-align: middle;\n",
       "    }\n",
       "\n",
       "    .dataframe tbody tr th {\n",
       "        vertical-align: top;\n",
       "    }\n",
       "\n",
       "    .dataframe thead th {\n",
       "        text-align: right;\n",
       "    }\n",
       "</style>\n",
       "<table border=\"1\" class=\"dataframe\">\n",
       "  <thead>\n",
       "    <tr style=\"text-align: right;\">\n",
       "      <th></th>\n",
       "      <th>sigla_uf</th>\n",
       "      <th>nome_fabricante</th>\n",
       "      <th>data_aplicacao</th>\n",
       "      <th>dose</th>\n",
       "    </tr>\n",
       "  </thead>\n",
       "  <tbody>\n",
       "    <tr>\n",
       "      <th>0</th>\n",
       "      <td>BA</td>\n",
       "      <td>PFIZER</td>\n",
       "      <td>2021-10-21</td>\n",
       "      <td>2ª Dose</td>\n",
       "    </tr>\n",
       "    <tr>\n",
       "      <th>1</th>\n",
       "      <td>BA</td>\n",
       "      <td>PFIZER</td>\n",
       "      <td>2021-06-30</td>\n",
       "      <td>1ª Dose</td>\n",
       "    </tr>\n",
       "    <tr>\n",
       "      <th>2</th>\n",
       "      <td>BA</td>\n",
       "      <td>PFIZER</td>\n",
       "      <td>2021-11-18</td>\n",
       "      <td>2ª Dose</td>\n",
       "    </tr>\n",
       "    <tr>\n",
       "      <th>3</th>\n",
       "      <td>BA</td>\n",
       "      <td>PFIZER</td>\n",
       "      <td>2022-01-07</td>\n",
       "      <td>Reforço</td>\n",
       "    </tr>\n",
       "    <tr>\n",
       "      <th>4</th>\n",
       "      <td>BA</td>\n",
       "      <td>PFIZER</td>\n",
       "      <td>2021-08-07</td>\n",
       "      <td>1ª Dose</td>\n",
       "    </tr>\n",
       "  </tbody>\n",
       "</table>\n",
       "</div>"
      ],
      "text/plain": [
       "  sigla_uf nome_fabricante data_aplicacao     dose\n",
       "0       BA          PFIZER     2021-10-21  2ª Dose\n",
       "1       BA          PFIZER     2021-06-30  1ª Dose\n",
       "2       BA          PFIZER     2021-11-18  2ª Dose\n",
       "3       BA          PFIZER     2022-01-07  Reforço\n",
       "4       BA          PFIZER     2021-08-07  1ª Dose"
      ]
     },
     "execution_count": 16,
     "metadata": {},
     "output_type": "execute_result"
    }
   ],
   "source": [
    "df.head()"
   ]
  },
  {
   "cell_type": "code",
   "execution_count": 17,
   "id": "396dcf8e",
   "metadata": {},
   "outputs": [
    {
     "name": "stdout",
     "output_type": "stream",
     "text": [
      "<class 'pandas.core.frame.DataFrame'>\n",
      "RangeIndex: 21609 entries, 0 to 21608\n",
      "Data columns (total 4 columns):\n",
      " #   Column           Non-Null Count  Dtype \n",
      "---  ------           --------------  ----- \n",
      " 0   sigla_uf         21609 non-null  object\n",
      " 1   nome_fabricante  21609 non-null  object\n",
      " 2   data_aplicacao   21609 non-null  dbdate\n",
      " 3   dose             21609 non-null  object\n",
      "dtypes: dbdate(1), object(3)\n",
      "memory usage: 675.4+ KB\n"
     ]
    }
   ],
   "source": [
    "df.info()"
   ]
  },
  {
   "cell_type": "markdown",
   "id": "4d08b5ad",
   "metadata": {},
   "source": [
    "### Dados de Pacientes vacinados no NE"
   ]
  },
  {
   "cell_type": "code",
   "execution_count": 19,
   "id": "adbb3500",
   "metadata": {},
   "outputs": [],
   "source": [
    "query_pacientes = \"(SELECT estado_ma.sigla_uf_endereco, estado_ma.sexo, estado_ma.raca_cor FROM `basedosdados.br_ms_vacinacao_covid19.microdados_paciente` as estado_ma WHERE estado_ma.sigla_uf_endereco = 'MA' LIMIT 2401) \\\n",
    "UNION ALL (SELECT estado_ce.sigla_uf_endereco, estado_ce.sexo, estado_ce.raca_cor FROM `basedosdados.br_ms_vacinacao_covid19.microdados_paciente` as estado_ce WHERE estado_ce.sigla_uf_endereco = 'CE' LIMIT 2401) \\\n",
    "UNION ALL (SELECT estado_rn.sigla_uf_endereco, estado_rn.sexo, estado_rn.raca_cor FROM `basedosdados.br_ms_vacinacao_covid19.microdados_paciente` as estado_rn WHERE estado_rn.sigla_uf_endereco = 'RN' LIMIT 2401) \\\n",
    "UNION ALL (SELECT estado_pb.sigla_uf_endereco, estado_pb.sexo, estado_pb.raca_cor FROM `basedosdados.br_ms_vacinacao_covid19.microdados_paciente` as estado_pb WHERE estado_pb.sigla_uf_endereco = 'PB' LIMIT 2401) \\\n",
    "UNION ALL (SELECT estado_al.sigla_uf_endereco, estado_al.sexo, estado_al.raca_cor FROM `basedosdados.br_ms_vacinacao_covid19.microdados_paciente` as estado_al WHERE estado_al.sigla_uf_endereco = 'AL' LIMIT 2401) \\\n",
    "UNION ALL (SELECT estado_se.sigla_uf_endereco, estado_se.sexo, estado_se.raca_cor FROM `basedosdados.br_ms_vacinacao_covid19.microdados_paciente` as estado_se WHERE estado_se.sigla_uf_endereco = 'SE' LIMIT 2401) \\\n",
    "UNION ALL (SELECT estado_ba.sigla_uf_endereco, estado_ba.sexo, estado_ba.raca_cor FROM `basedosdados.br_ms_vacinacao_covid19.microdados_paciente` as estado_ba WHERE estado_ba.sigla_uf_endereco = 'BA' LIMIT 2401) \\\n",
    "UNION ALL (SELECT estado_pi.sigla_uf_endereco, estado_pi.sexo, estado_pi.raca_cor FROM `basedosdados.br_ms_vacinacao_covid19.microdados_paciente` as estado_pi WHERE estado_pi.sigla_uf_endereco = 'PI' LIMIT 2401)\\\n",
    "UNION ALL (SELECT estado_pe.sigla_uf_endereco, estado_pe.sexo, estado_pe.raca_cor FROM `basedosdados.br_ms_vacinacao_covid19.microdados_paciente` as estado_pe WHERE estado_pe.sigla_uf_endereco = 'PE' LIMIT 2401)\""
   ]
  },
  {
   "cell_type": "code",
   "execution_count": 20,
   "id": "75807161",
   "metadata": {},
   "outputs": [
    {
     "name": "stderr",
     "output_type": "stream",
     "text": [
      "Downloading: 100%|██████████| 21609/21609 [00:00<00:00, 24074.76rows/s]\n"
     ]
    },
    {
     "data": {
      "text/html": [
       "<div>\n",
       "<style scoped>\n",
       "    .dataframe tbody tr th:only-of-type {\n",
       "        vertical-align: middle;\n",
       "    }\n",
       "\n",
       "    .dataframe tbody tr th {\n",
       "        vertical-align: top;\n",
       "    }\n",
       "\n",
       "    .dataframe thead th {\n",
       "        text-align: right;\n",
       "    }\n",
       "</style>\n",
       "<table border=\"1\" class=\"dataframe\">\n",
       "  <thead>\n",
       "    <tr style=\"text-align: right;\">\n",
       "      <th></th>\n",
       "      <th>sigla_uf_endereco</th>\n",
       "      <th>sexo</th>\n",
       "      <th>raca_cor</th>\n",
       "    </tr>\n",
       "  </thead>\n",
       "  <tbody>\n",
       "    <tr>\n",
       "      <th>0</th>\n",
       "      <td>PB</td>\n",
       "      <td>M</td>\n",
       "      <td>4</td>\n",
       "    </tr>\n",
       "    <tr>\n",
       "      <th>1</th>\n",
       "      <td>PB</td>\n",
       "      <td>F</td>\n",
       "      <td>3</td>\n",
       "    </tr>\n",
       "    <tr>\n",
       "      <th>2</th>\n",
       "      <td>PB</td>\n",
       "      <td>M</td>\n",
       "      <td>3</td>\n",
       "    </tr>\n",
       "    <tr>\n",
       "      <th>3</th>\n",
       "      <td>PB</td>\n",
       "      <td>M</td>\n",
       "      <td>4</td>\n",
       "    </tr>\n",
       "    <tr>\n",
       "      <th>4</th>\n",
       "      <td>PB</td>\n",
       "      <td>M</td>\n",
       "      <td>99</td>\n",
       "    </tr>\n",
       "  </tbody>\n",
       "</table>\n",
       "</div>"
      ],
      "text/plain": [
       "  sigla_uf_endereco sexo raca_cor\n",
       "0                PB    M        4\n",
       "1                PB    F        3\n",
       "2                PB    M        3\n",
       "3                PB    M        4\n",
       "4                PB    M       99"
      ]
     },
     "execution_count": 20,
     "metadata": {},
     "output_type": "execute_result"
    }
   ],
   "source": [
    "df_paciente = bd.read_sql(query = query_pacientes, billing_project_id='YOUR_PROJECT_ID')\n",
    "df_paciente.head()"
   ]
  },
  {
   "cell_type": "code",
   "execution_count": 21,
   "id": "58c0d2b0",
   "metadata": {},
   "outputs": [
    {
     "name": "stdout",
     "output_type": "stream",
     "text": [
      "<class 'pandas.core.frame.DataFrame'>\n",
      "RangeIndex: 21609 entries, 0 to 21608\n",
      "Data columns (total 3 columns):\n",
      " #   Column             Non-Null Count  Dtype \n",
      "---  ------             --------------  ----- \n",
      " 0   sigla_uf_endereco  21609 non-null  object\n",
      " 1   sexo               21609 non-null  object\n",
      " 2   raca_cor           21609 non-null  object\n",
      "dtypes: object(3)\n",
      "memory usage: 506.6+ KB\n"
     ]
    }
   ],
   "source": [
    "df_paciente.info()"
   ]
  },
  {
   "cell_type": "markdown",
   "id": "1687da3b",
   "metadata": {},
   "source": [
    "### Unindo Tabelas"
   ]
  },
  {
   "cell_type": "code",
   "execution_count": 22,
   "id": "b4cfa5be",
   "metadata": {},
   "outputs": [
    {
     "data": {
      "text/html": [
       "<div>\n",
       "<style scoped>\n",
       "    .dataframe tbody tr th:only-of-type {\n",
       "        vertical-align: middle;\n",
       "    }\n",
       "\n",
       "    .dataframe tbody tr th {\n",
       "        vertical-align: top;\n",
       "    }\n",
       "\n",
       "    .dataframe thead th {\n",
       "        text-align: right;\n",
       "    }\n",
       "</style>\n",
       "<table border=\"1\" class=\"dataframe\">\n",
       "  <thead>\n",
       "    <tr style=\"text-align: right;\">\n",
       "      <th></th>\n",
       "      <th>sigla_uf_endereco</th>\n",
       "      <th>sexo</th>\n",
       "      <th>raca_cor</th>\n",
       "    </tr>\n",
       "  </thead>\n",
       "  <tbody>\n",
       "    <tr>\n",
       "      <th>0</th>\n",
       "      <td>AL</td>\n",
       "      <td>F</td>\n",
       "      <td>3</td>\n",
       "    </tr>\n",
       "    <tr>\n",
       "      <th>1</th>\n",
       "      <td>AL</td>\n",
       "      <td>M</td>\n",
       "      <td>3</td>\n",
       "    </tr>\n",
       "    <tr>\n",
       "      <th>2</th>\n",
       "      <td>AL</td>\n",
       "      <td>F</td>\n",
       "      <td>1</td>\n",
       "    </tr>\n",
       "    <tr>\n",
       "      <th>3</th>\n",
       "      <td>AL</td>\n",
       "      <td>F</td>\n",
       "      <td>3</td>\n",
       "    </tr>\n",
       "    <tr>\n",
       "      <th>4</th>\n",
       "      <td>AL</td>\n",
       "      <td>M</td>\n",
       "      <td>4</td>\n",
       "    </tr>\n",
       "    <tr>\n",
       "      <th>...</th>\n",
       "      <td>...</td>\n",
       "      <td>...</td>\n",
       "      <td>...</td>\n",
       "    </tr>\n",
       "    <tr>\n",
       "      <th>21604</th>\n",
       "      <td>SE</td>\n",
       "      <td>F</td>\n",
       "      <td>99</td>\n",
       "    </tr>\n",
       "    <tr>\n",
       "      <th>21605</th>\n",
       "      <td>SE</td>\n",
       "      <td>F</td>\n",
       "      <td>4</td>\n",
       "    </tr>\n",
       "    <tr>\n",
       "      <th>21606</th>\n",
       "      <td>SE</td>\n",
       "      <td>M</td>\n",
       "      <td>3</td>\n",
       "    </tr>\n",
       "    <tr>\n",
       "      <th>21607</th>\n",
       "      <td>SE</td>\n",
       "      <td>F</td>\n",
       "      <td>3</td>\n",
       "    </tr>\n",
       "    <tr>\n",
       "      <th>21608</th>\n",
       "      <td>SE</td>\n",
       "      <td>F</td>\n",
       "      <td>3</td>\n",
       "    </tr>\n",
       "  </tbody>\n",
       "</table>\n",
       "<p>21609 rows × 3 columns</p>\n",
       "</div>"
      ],
      "text/plain": [
       "      sigla_uf_endereco sexo raca_cor\n",
       "0                    AL    F        3\n",
       "1                    AL    M        3\n",
       "2                    AL    F        1\n",
       "3                    AL    F        3\n",
       "4                    AL    M        4\n",
       "...                 ...  ...      ...\n",
       "21604                SE    F       99\n",
       "21605                SE    F        4\n",
       "21606                SE    M        3\n",
       "21607                SE    F        3\n",
       "21608                SE    F        3\n",
       "\n",
       "[21609 rows x 3 columns]"
      ]
     },
     "execution_count": 22,
     "metadata": {},
     "output_type": "execute_result"
    }
   ],
   "source": [
    "df_paciente = df_paciente.sort_values('sigla_uf_endereco').reset_index(drop = True)\n",
    "df_paciente"
   ]
  },
  {
   "cell_type": "code",
   "execution_count": 23,
   "id": "41eedd21",
   "metadata": {},
   "outputs": [
    {
     "data": {
      "text/html": [
       "<div>\n",
       "<style scoped>\n",
       "    .dataframe tbody tr th:only-of-type {\n",
       "        vertical-align: middle;\n",
       "    }\n",
       "\n",
       "    .dataframe tbody tr th {\n",
       "        vertical-align: top;\n",
       "    }\n",
       "\n",
       "    .dataframe thead th {\n",
       "        text-align: right;\n",
       "    }\n",
       "</style>\n",
       "<table border=\"1\" class=\"dataframe\">\n",
       "  <thead>\n",
       "    <tr style=\"text-align: right;\">\n",
       "      <th></th>\n",
       "      <th>sigla_uf</th>\n",
       "      <th>nome_fabricante</th>\n",
       "      <th>data_aplicacao</th>\n",
       "      <th>dose</th>\n",
       "    </tr>\n",
       "  </thead>\n",
       "  <tbody>\n",
       "    <tr>\n",
       "      <th>0</th>\n",
       "      <td>AL</td>\n",
       "      <td>PFIZER</td>\n",
       "      <td>2021-09-18</td>\n",
       "      <td>2ª Dose</td>\n",
       "    </tr>\n",
       "    <tr>\n",
       "      <th>1</th>\n",
       "      <td>AL</td>\n",
       "      <td>SINOVAC/BUTANTAN</td>\n",
       "      <td>2021-07-22</td>\n",
       "      <td>1ª Dose</td>\n",
       "    </tr>\n",
       "    <tr>\n",
       "      <th>2</th>\n",
       "      <td>AL</td>\n",
       "      <td>SINOVAC/BUTANTAN</td>\n",
       "      <td>2021-02-26</td>\n",
       "      <td>1ª Dose</td>\n",
       "    </tr>\n",
       "    <tr>\n",
       "      <th>3</th>\n",
       "      <td>AL</td>\n",
       "      <td>SINOVAC/BUTANTAN</td>\n",
       "      <td>2021-03-01</td>\n",
       "      <td>2ª Dose</td>\n",
       "    </tr>\n",
       "    <tr>\n",
       "      <th>4</th>\n",
       "      <td>AL</td>\n",
       "      <td>SINOVAC/BUTANTAN</td>\n",
       "      <td>2021-09-14</td>\n",
       "      <td>1ª Dose</td>\n",
       "    </tr>\n",
       "    <tr>\n",
       "      <th>...</th>\n",
       "      <td>...</td>\n",
       "      <td>...</td>\n",
       "      <td>...</td>\n",
       "      <td>...</td>\n",
       "    </tr>\n",
       "    <tr>\n",
       "      <th>21604</th>\n",
       "      <td>SE</td>\n",
       "      <td>ASTRAZENECA/FIOCRUZ</td>\n",
       "      <td>2021-06-09</td>\n",
       "      <td>1ª Dose</td>\n",
       "    </tr>\n",
       "    <tr>\n",
       "      <th>21605</th>\n",
       "      <td>SE</td>\n",
       "      <td>ASTRAZENECA/FIOCRUZ</td>\n",
       "      <td>2021-05-19</td>\n",
       "      <td>1ª Dose</td>\n",
       "    </tr>\n",
       "    <tr>\n",
       "      <th>21606</th>\n",
       "      <td>SE</td>\n",
       "      <td>ASTRAZENECA/FIOCRUZ</td>\n",
       "      <td>2021-08-02</td>\n",
       "      <td>2ª Dose</td>\n",
       "    </tr>\n",
       "    <tr>\n",
       "      <th>21607</th>\n",
       "      <td>SE</td>\n",
       "      <td>ASTRAZENECA/FIOCRUZ</td>\n",
       "      <td>2021-08-04</td>\n",
       "      <td>2ª Dose</td>\n",
       "    </tr>\n",
       "    <tr>\n",
       "      <th>21608</th>\n",
       "      <td>SE</td>\n",
       "      <td>PFIZER</td>\n",
       "      <td>2021-10-22</td>\n",
       "      <td>2ª Dose</td>\n",
       "    </tr>\n",
       "  </tbody>\n",
       "</table>\n",
       "<p>21609 rows × 4 columns</p>\n",
       "</div>"
      ],
      "text/plain": [
       "      sigla_uf      nome_fabricante data_aplicacao     dose\n",
       "0           AL               PFIZER     2021-09-18  2ª Dose\n",
       "1           AL     SINOVAC/BUTANTAN     2021-07-22  1ª Dose\n",
       "2           AL     SINOVAC/BUTANTAN     2021-02-26  1ª Dose\n",
       "3           AL     SINOVAC/BUTANTAN     2021-03-01  2ª Dose\n",
       "4           AL     SINOVAC/BUTANTAN     2021-09-14  1ª Dose\n",
       "...        ...                  ...            ...      ...\n",
       "21604       SE  ASTRAZENECA/FIOCRUZ     2021-06-09  1ª Dose\n",
       "21605       SE  ASTRAZENECA/FIOCRUZ     2021-05-19  1ª Dose\n",
       "21606       SE  ASTRAZENECA/FIOCRUZ     2021-08-02  2ª Dose\n",
       "21607       SE  ASTRAZENECA/FIOCRUZ     2021-08-04  2ª Dose\n",
       "21608       SE               PFIZER     2021-10-22  2ª Dose\n",
       "\n",
       "[21609 rows x 4 columns]"
      ]
     },
     "execution_count": 23,
     "metadata": {},
     "output_type": "execute_result"
    }
   ],
   "source": [
    "df = df.sort_values('sigla_uf').reset_index(drop = True)\n",
    "df"
   ]
  },
  {
   "cell_type": "code",
   "execution_count": 24,
   "id": "29cd8e5f",
   "metadata": {},
   "outputs": [
    {
     "data": {
      "text/html": [
       "<div>\n",
       "<style scoped>\n",
       "    .dataframe tbody tr th:only-of-type {\n",
       "        vertical-align: middle;\n",
       "    }\n",
       "\n",
       "    .dataframe tbody tr th {\n",
       "        vertical-align: top;\n",
       "    }\n",
       "\n",
       "    .dataframe thead th {\n",
       "        text-align: right;\n",
       "    }\n",
       "</style>\n",
       "<table border=\"1\" class=\"dataframe\">\n",
       "  <thead>\n",
       "    <tr style=\"text-align: right;\">\n",
       "      <th></th>\n",
       "      <th>sigla_uf</th>\n",
       "      <th>nome_fabricante</th>\n",
       "      <th>data_aplicacao</th>\n",
       "      <th>dose</th>\n",
       "      <th>sigla_uf_endereco</th>\n",
       "      <th>sexo</th>\n",
       "      <th>raca_cor</th>\n",
       "    </tr>\n",
       "  </thead>\n",
       "  <tbody>\n",
       "    <tr>\n",
       "      <th>0</th>\n",
       "      <td>AL</td>\n",
       "      <td>PFIZER</td>\n",
       "      <td>2021-09-18</td>\n",
       "      <td>2ª Dose</td>\n",
       "      <td>AL</td>\n",
       "      <td>F</td>\n",
       "      <td>3</td>\n",
       "    </tr>\n",
       "    <tr>\n",
       "      <th>1</th>\n",
       "      <td>AL</td>\n",
       "      <td>SINOVAC/BUTANTAN</td>\n",
       "      <td>2021-07-22</td>\n",
       "      <td>1ª Dose</td>\n",
       "      <td>AL</td>\n",
       "      <td>M</td>\n",
       "      <td>3</td>\n",
       "    </tr>\n",
       "    <tr>\n",
       "      <th>2</th>\n",
       "      <td>AL</td>\n",
       "      <td>SINOVAC/BUTANTAN</td>\n",
       "      <td>2021-02-26</td>\n",
       "      <td>1ª Dose</td>\n",
       "      <td>AL</td>\n",
       "      <td>F</td>\n",
       "      <td>1</td>\n",
       "    </tr>\n",
       "    <tr>\n",
       "      <th>3</th>\n",
       "      <td>AL</td>\n",
       "      <td>SINOVAC/BUTANTAN</td>\n",
       "      <td>2021-03-01</td>\n",
       "      <td>2ª Dose</td>\n",
       "      <td>AL</td>\n",
       "      <td>F</td>\n",
       "      <td>3</td>\n",
       "    </tr>\n",
       "    <tr>\n",
       "      <th>4</th>\n",
       "      <td>AL</td>\n",
       "      <td>SINOVAC/BUTANTAN</td>\n",
       "      <td>2021-09-14</td>\n",
       "      <td>1ª Dose</td>\n",
       "      <td>AL</td>\n",
       "      <td>M</td>\n",
       "      <td>4</td>\n",
       "    </tr>\n",
       "    <tr>\n",
       "      <th>...</th>\n",
       "      <td>...</td>\n",
       "      <td>...</td>\n",
       "      <td>...</td>\n",
       "      <td>...</td>\n",
       "      <td>...</td>\n",
       "      <td>...</td>\n",
       "      <td>...</td>\n",
       "    </tr>\n",
       "    <tr>\n",
       "      <th>21604</th>\n",
       "      <td>SE</td>\n",
       "      <td>ASTRAZENECA/FIOCRUZ</td>\n",
       "      <td>2021-06-09</td>\n",
       "      <td>1ª Dose</td>\n",
       "      <td>SE</td>\n",
       "      <td>F</td>\n",
       "      <td>99</td>\n",
       "    </tr>\n",
       "    <tr>\n",
       "      <th>21605</th>\n",
       "      <td>SE</td>\n",
       "      <td>ASTRAZENECA/FIOCRUZ</td>\n",
       "      <td>2021-05-19</td>\n",
       "      <td>1ª Dose</td>\n",
       "      <td>SE</td>\n",
       "      <td>F</td>\n",
       "      <td>4</td>\n",
       "    </tr>\n",
       "    <tr>\n",
       "      <th>21606</th>\n",
       "      <td>SE</td>\n",
       "      <td>ASTRAZENECA/FIOCRUZ</td>\n",
       "      <td>2021-08-02</td>\n",
       "      <td>2ª Dose</td>\n",
       "      <td>SE</td>\n",
       "      <td>M</td>\n",
       "      <td>3</td>\n",
       "    </tr>\n",
       "    <tr>\n",
       "      <th>21607</th>\n",
       "      <td>SE</td>\n",
       "      <td>ASTRAZENECA/FIOCRUZ</td>\n",
       "      <td>2021-08-04</td>\n",
       "      <td>2ª Dose</td>\n",
       "      <td>SE</td>\n",
       "      <td>F</td>\n",
       "      <td>3</td>\n",
       "    </tr>\n",
       "    <tr>\n",
       "      <th>21608</th>\n",
       "      <td>SE</td>\n",
       "      <td>PFIZER</td>\n",
       "      <td>2021-10-22</td>\n",
       "      <td>2ª Dose</td>\n",
       "      <td>SE</td>\n",
       "      <td>F</td>\n",
       "      <td>3</td>\n",
       "    </tr>\n",
       "  </tbody>\n",
       "</table>\n",
       "<p>21609 rows × 7 columns</p>\n",
       "</div>"
      ],
      "text/plain": [
       "      sigla_uf      nome_fabricante data_aplicacao     dose sigla_uf_endereco  \\\n",
       "0           AL               PFIZER     2021-09-18  2ª Dose                AL   \n",
       "1           AL     SINOVAC/BUTANTAN     2021-07-22  1ª Dose                AL   \n",
       "2           AL     SINOVAC/BUTANTAN     2021-02-26  1ª Dose                AL   \n",
       "3           AL     SINOVAC/BUTANTAN     2021-03-01  2ª Dose                AL   \n",
       "4           AL     SINOVAC/BUTANTAN     2021-09-14  1ª Dose                AL   \n",
       "...        ...                  ...            ...      ...               ...   \n",
       "21604       SE  ASTRAZENECA/FIOCRUZ     2021-06-09  1ª Dose                SE   \n",
       "21605       SE  ASTRAZENECA/FIOCRUZ     2021-05-19  1ª Dose                SE   \n",
       "21606       SE  ASTRAZENECA/FIOCRUZ     2021-08-02  2ª Dose                SE   \n",
       "21607       SE  ASTRAZENECA/FIOCRUZ     2021-08-04  2ª Dose                SE   \n",
       "21608       SE               PFIZER     2021-10-22  2ª Dose                SE   \n",
       "\n",
       "      sexo raca_cor  \n",
       "0        F        3  \n",
       "1        M        3  \n",
       "2        F        1  \n",
       "3        F        3  \n",
       "4        M        4  \n",
       "...    ...      ...  \n",
       "21604    F       99  \n",
       "21605    F        4  \n",
       "21606    M        3  \n",
       "21607    F        3  \n",
       "21608    F        3  \n",
       "\n",
       "[21609 rows x 7 columns]"
      ]
     },
     "execution_count": 24,
     "metadata": {},
     "output_type": "execute_result"
    }
   ],
   "source": [
    "df_vacinacao = pd.concat([df,df_paciente],axis = 1)\n",
    "df_vacinacao"
   ]
  },
  {
   "cell_type": "code",
   "execution_count": 25,
   "id": "0e6b9a31",
   "metadata": {},
   "outputs": [
    {
     "data": {
      "text/plain": [
       "array(['AL', 'BA', 'CE', 'MA', 'PB', 'PE', 'PI', 'RN', 'SE'], dtype=object)"
      ]
     },
     "execution_count": 25,
     "metadata": {},
     "output_type": "execute_result"
    }
   ],
   "source": [
    "df_vacinacao[\"sigla_uf_endereco\"].unique()"
   ]
  },
  {
   "cell_type": "code",
   "execution_count": 26,
   "id": "7df51613",
   "metadata": {},
   "outputs": [
    {
     "data": {
      "text/plain": [
       "array(['AL', 'BA', 'CE', 'MA', 'PB', 'PE', 'PI', 'RN', 'SE'], dtype=object)"
      ]
     },
     "execution_count": 26,
     "metadata": {},
     "output_type": "execute_result"
    }
   ],
   "source": [
    "df_vacinacao[\"sigla_uf\"].unique()"
   ]
  },
  {
   "cell_type": "code",
   "execution_count": 27,
   "id": "a79d45f4",
   "metadata": {},
   "outputs": [
    {
     "data": {
      "text/html": [
       "<div>\n",
       "<style scoped>\n",
       "    .dataframe tbody tr th:only-of-type {\n",
       "        vertical-align: middle;\n",
       "    }\n",
       "\n",
       "    .dataframe tbody tr th {\n",
       "        vertical-align: top;\n",
       "    }\n",
       "\n",
       "    .dataframe thead th {\n",
       "        text-align: right;\n",
       "    }\n",
       "</style>\n",
       "<table border=\"1\" class=\"dataframe\">\n",
       "  <thead>\n",
       "    <tr style=\"text-align: right;\">\n",
       "      <th></th>\n",
       "      <th>sigla_uf</th>\n",
       "      <th>nome_fabricante</th>\n",
       "      <th>data_aplicacao</th>\n",
       "      <th>dose</th>\n",
       "      <th>sexo</th>\n",
       "      <th>raca_cor</th>\n",
       "    </tr>\n",
       "  </thead>\n",
       "  <tbody>\n",
       "    <tr>\n",
       "      <th>0</th>\n",
       "      <td>AL</td>\n",
       "      <td>PFIZER</td>\n",
       "      <td>2021-09-18</td>\n",
       "      <td>2ª Dose</td>\n",
       "      <td>F</td>\n",
       "      <td>3</td>\n",
       "    </tr>\n",
       "    <tr>\n",
       "      <th>1</th>\n",
       "      <td>AL</td>\n",
       "      <td>SINOVAC/BUTANTAN</td>\n",
       "      <td>2021-07-22</td>\n",
       "      <td>1ª Dose</td>\n",
       "      <td>M</td>\n",
       "      <td>3</td>\n",
       "    </tr>\n",
       "    <tr>\n",
       "      <th>2</th>\n",
       "      <td>AL</td>\n",
       "      <td>SINOVAC/BUTANTAN</td>\n",
       "      <td>2021-02-26</td>\n",
       "      <td>1ª Dose</td>\n",
       "      <td>F</td>\n",
       "      <td>1</td>\n",
       "    </tr>\n",
       "    <tr>\n",
       "      <th>3</th>\n",
       "      <td>AL</td>\n",
       "      <td>SINOVAC/BUTANTAN</td>\n",
       "      <td>2021-03-01</td>\n",
       "      <td>2ª Dose</td>\n",
       "      <td>F</td>\n",
       "      <td>3</td>\n",
       "    </tr>\n",
       "    <tr>\n",
       "      <th>4</th>\n",
       "      <td>AL</td>\n",
       "      <td>SINOVAC/BUTANTAN</td>\n",
       "      <td>2021-09-14</td>\n",
       "      <td>1ª Dose</td>\n",
       "      <td>M</td>\n",
       "      <td>4</td>\n",
       "    </tr>\n",
       "    <tr>\n",
       "      <th>...</th>\n",
       "      <td>...</td>\n",
       "      <td>...</td>\n",
       "      <td>...</td>\n",
       "      <td>...</td>\n",
       "      <td>...</td>\n",
       "      <td>...</td>\n",
       "    </tr>\n",
       "    <tr>\n",
       "      <th>21604</th>\n",
       "      <td>SE</td>\n",
       "      <td>ASTRAZENECA/FIOCRUZ</td>\n",
       "      <td>2021-06-09</td>\n",
       "      <td>1ª Dose</td>\n",
       "      <td>F</td>\n",
       "      <td>99</td>\n",
       "    </tr>\n",
       "    <tr>\n",
       "      <th>21605</th>\n",
       "      <td>SE</td>\n",
       "      <td>ASTRAZENECA/FIOCRUZ</td>\n",
       "      <td>2021-05-19</td>\n",
       "      <td>1ª Dose</td>\n",
       "      <td>F</td>\n",
       "      <td>4</td>\n",
       "    </tr>\n",
       "    <tr>\n",
       "      <th>21606</th>\n",
       "      <td>SE</td>\n",
       "      <td>ASTRAZENECA/FIOCRUZ</td>\n",
       "      <td>2021-08-02</td>\n",
       "      <td>2ª Dose</td>\n",
       "      <td>M</td>\n",
       "      <td>3</td>\n",
       "    </tr>\n",
       "    <tr>\n",
       "      <th>21607</th>\n",
       "      <td>SE</td>\n",
       "      <td>ASTRAZENECA/FIOCRUZ</td>\n",
       "      <td>2021-08-04</td>\n",
       "      <td>2ª Dose</td>\n",
       "      <td>F</td>\n",
       "      <td>3</td>\n",
       "    </tr>\n",
       "    <tr>\n",
       "      <th>21608</th>\n",
       "      <td>SE</td>\n",
       "      <td>PFIZER</td>\n",
       "      <td>2021-10-22</td>\n",
       "      <td>2ª Dose</td>\n",
       "      <td>F</td>\n",
       "      <td>3</td>\n",
       "    </tr>\n",
       "  </tbody>\n",
       "</table>\n",
       "<p>21609 rows × 6 columns</p>\n",
       "</div>"
      ],
      "text/plain": [
       "      sigla_uf      nome_fabricante data_aplicacao     dose sexo raca_cor\n",
       "0           AL               PFIZER     2021-09-18  2ª Dose    F        3\n",
       "1           AL     SINOVAC/BUTANTAN     2021-07-22  1ª Dose    M        3\n",
       "2           AL     SINOVAC/BUTANTAN     2021-02-26  1ª Dose    F        1\n",
       "3           AL     SINOVAC/BUTANTAN     2021-03-01  2ª Dose    F        3\n",
       "4           AL     SINOVAC/BUTANTAN     2021-09-14  1ª Dose    M        4\n",
       "...        ...                  ...            ...      ...  ...      ...\n",
       "21604       SE  ASTRAZENECA/FIOCRUZ     2021-06-09  1ª Dose    F       99\n",
       "21605       SE  ASTRAZENECA/FIOCRUZ     2021-05-19  1ª Dose    F        4\n",
       "21606       SE  ASTRAZENECA/FIOCRUZ     2021-08-02  2ª Dose    M        3\n",
       "21607       SE  ASTRAZENECA/FIOCRUZ     2021-08-04  2ª Dose    F        3\n",
       "21608       SE               PFIZER     2021-10-22  2ª Dose    F        3\n",
       "\n",
       "[21609 rows x 6 columns]"
      ]
     },
     "execution_count": 27,
     "metadata": {},
     "output_type": "execute_result"
    }
   ],
   "source": [
    "df_vacinacao.drop('sigla_uf_endereco',axis=1)"
   ]
  },
  {
   "cell_type": "markdown",
   "id": "b4fbee0e",
   "metadata": {},
   "source": [
    "### Análise Exploratória"
   ]
  },
  {
   "cell_type": "code",
   "execution_count": 28,
   "id": "32e5438f",
   "metadata": {},
   "outputs": [
    {
     "data": {
      "text/plain": [
       "array(['2ª Dose', '1ª Dose', 'Reforço', 'Dose Adicional',\n",
       "       '2ª Dose Revacinação', 'Dose Única', 'Única', '4ª Dose', '3ª Dose',\n",
       "       'Dose Inicial'], dtype=object)"
      ]
     },
     "execution_count": 28,
     "metadata": {},
     "output_type": "execute_result"
    }
   ],
   "source": [
    "df_vacinacao['dose'].unique()"
   ]
  },
  {
   "cell_type": "code",
   "execution_count": 29,
   "id": "29ab999b",
   "metadata": {},
   "outputs": [
    {
     "data": {
      "text/plain": [
       "array(['3', '1', '4', '99', '2', '5'], dtype=object)"
      ]
     },
     "execution_count": 29,
     "metadata": {},
     "output_type": "execute_result"
    }
   ],
   "source": [
    "df_vacinacao['raca_cor'].unique()"
   ]
  },
  {
   "cell_type": "code",
   "execution_count": 30,
   "id": "8504cf8d",
   "metadata": {},
   "outputs": [
    {
     "data": {
      "text/plain": [
       "array(['PFIZER', 'SINOVAC/BUTANTAN', 'ASTRAZENECA/FIOCRUZ', 'ASTRAZENECA',\n",
       "       'JANSSEN'], dtype=object)"
      ]
     },
     "execution_count": 30,
     "metadata": {},
     "output_type": "execute_result"
    }
   ],
   "source": [
    "df_vacinacao['nome_fabricante'].unique()"
   ]
  },
  {
   "cell_type": "markdown",
   "id": "21d36fff",
   "metadata": {},
   "source": [
    "##### Substituindo valores"
   ]
  },
  {
   "cell_type": "code",
   "execution_count": 31,
   "id": "4eb5ea9d",
   "metadata": {},
   "outputs": [],
   "source": [
    "df_vacinacao.replace('Dose Única','1ª Dose', inplace= True)"
   ]
  },
  {
   "cell_type": "code",
   "execution_count": 32,
   "id": "81e33ece",
   "metadata": {},
   "outputs": [],
   "source": [
    "df_vacinacao.replace('Única','1ª Dose', inplace= True)"
   ]
  },
  {
   "cell_type": "code",
   "execution_count": 33,
   "id": "6b171acd",
   "metadata": {},
   "outputs": [],
   "source": [
    "df_vacinacao.replace('Dose Inicial','1ª Dose', inplace= True)"
   ]
  },
  {
   "cell_type": "code",
   "execution_count": 34,
   "id": "316d3438",
   "metadata": {},
   "outputs": [],
   "source": [
    "df_vacinacao.replace('Reforço','2ª Dose', inplace= True)"
   ]
  },
  {
   "cell_type": "code",
   "execution_count": 60,
   "id": "ba35d925",
   "metadata": {},
   "outputs": [],
   "source": [
    "df_vacinacao.replace('2ª Dose Revacinação','2ª Dose', inplace= True)"
   ]
  },
  {
   "cell_type": "code",
   "execution_count": 35,
   "id": "e51ae4fe",
   "metadata": {},
   "outputs": [],
   "source": [
    "df_vacinacao.replace('Dose Adicional','3ª Dose', inplace= True)"
   ]
  },
  {
   "cell_type": "code",
   "execution_count": 61,
   "id": "c2554433",
   "metadata": {},
   "outputs": [
    {
     "data": {
      "text/plain": [
       "array(['2ª Dose', '1ª Dose', '3ª Dose', '4ª Dose'], dtype=object)"
      ]
     },
     "execution_count": 61,
     "metadata": {},
     "output_type": "execute_result"
    }
   ],
   "source": [
    "df_vacinacao['dose'].unique()"
   ]
  },
  {
   "cell_type": "markdown",
   "id": "7dc47f67",
   "metadata": {},
   "source": [
    "De acordo com o dicionário de dados disponibilizados temos que a raça é classificada da seguinte maneira:\n",
    "\n",
    "1: Branca<br>\n",
    "2: Preta<br>\n",
    "3: Parda<br>\n",
    "4: Amarelo<br>\n",
    "5: Indígena<br>\n",
    "99: Sem Informação"
   ]
  },
  {
   "cell_type": "code",
   "execution_count": 37,
   "id": "4ab01005",
   "metadata": {},
   "outputs": [],
   "source": [
    "df_vacinacao.replace('1','Branca', inplace= True)"
   ]
  },
  {
   "cell_type": "code",
   "execution_count": 38,
   "id": "fab2289f",
   "metadata": {},
   "outputs": [],
   "source": [
    "df_vacinacao.replace('2','Preta', inplace= True)"
   ]
  },
  {
   "cell_type": "code",
   "execution_count": 39,
   "id": "063b6558",
   "metadata": {},
   "outputs": [],
   "source": [
    "df_vacinacao.replace('3','Parda', inplace= True)"
   ]
  },
  {
   "cell_type": "code",
   "execution_count": 40,
   "id": "6d9de5e0",
   "metadata": {},
   "outputs": [],
   "source": [
    "df_vacinacao.replace('4','Amarelo', inplace= True)"
   ]
  },
  {
   "cell_type": "code",
   "execution_count": 41,
   "id": "00152c29",
   "metadata": {},
   "outputs": [],
   "source": [
    "df_vacinacao.replace('5','Índigena', inplace= True)"
   ]
  },
  {
   "cell_type": "code",
   "execution_count": 42,
   "id": "50ec8c22",
   "metadata": {},
   "outputs": [],
   "source": [
    "df_vacinacao.replace('99','Sem Informação', inplace= True)"
   ]
  },
  {
   "cell_type": "code",
   "execution_count": 43,
   "id": "2ec2a72b",
   "metadata": {},
   "outputs": [
    {
     "data": {
      "text/plain": [
       "array(['Parda', 'Branca', 'Amarelo', 'Sem Informação', 'Preta',\n",
       "       'Índigena'], dtype=object)"
      ]
     },
     "execution_count": 43,
     "metadata": {},
     "output_type": "execute_result"
    }
   ],
   "source": [
    "df_vacinacao['raca_cor'].unique()"
   ]
  },
  {
   "cell_type": "code",
   "execution_count": 44,
   "id": "3efeaf3d",
   "metadata": {},
   "outputs": [],
   "source": [
    "df_vacinacao.replace('ASTRAZENECA','ASTRAZENECA/FIOCRUZ', inplace= True)"
   ]
  },
  {
   "cell_type": "code",
   "execution_count": 45,
   "id": "ebe4e3cc",
   "metadata": {},
   "outputs": [],
   "source": [
    "df_vacinacao.to_csv('vacinacao.csv', index=False)"
   ]
  },
  {
   "cell_type": "markdown",
   "id": "6ad3ffd6",
   "metadata": {},
   "source": [
    "### Processamento dos Dados"
   ]
  },
  {
   "cell_type": "code",
   "execution_count": null,
   "id": "8cc13806",
   "metadata": {},
   "outputs": [],
   "source": [
    "#df_vacinacao = pd.read_csv('vacinacao.csv')"
   ]
  },
  {
   "cell_type": "code",
   "execution_count": 46,
   "id": "ba318710",
   "metadata": {},
   "outputs": [
    {
     "name": "stdout",
     "output_type": "stream",
     "text": [
      "O total de vacinados analisados é de 21609, sendo 9993 homens e 11616 mulheres\n",
      "Isso representa aproximadamente 46.0% de homens e 54.0% de mulheres\n"
     ]
    }
   ],
   "source": [
    "# Percentual de Homens e Mulheres vacinados no NE\n",
    "total_pessoas = df_vacinacao['sexo'].count()\n",
    "total_homens = df_vacinacao.loc[(df_vacinacao['sexo']=='M'), 'sexo'].count()\n",
    "total_mulheres = df_vacinacao.loc[(df_vacinacao['sexo']=='F'), 'sexo'].count()\n",
    "\n",
    "print(f'O total de vacinados analisados é de {total_pessoas}, sendo {total_homens} homens e {total_mulheres} mulheres')\n",
    "print(f'Isso representa aproximadamente {round(total_homens/total_pessoas,2) *100}% de homens e {round(total_mulheres/total_pessoas,2)*100}% de mulheres')"
   ]
  },
  {
   "cell_type": "code",
   "execution_count": 47,
   "id": "feed8943",
   "metadata": {},
   "outputs": [
    {
     "name": "stdout",
     "output_type": "stream",
     "text": [
      "Total homens vacinados em AL: 1101 --> 45.86%\n",
      "Total mulheres vacinadas em AL: 1300 --> 54.14%\n",
      "\n",
      "Total homens vacinados em BA: 1136 --> 47.31%\n",
      "Total mulheres vacinadas em BA: 1265 --> 52.69%\n",
      "\n",
      "Total homens vacinados em CE: 1148 --> 47.81%\n",
      "Total mulheres vacinadas em CE: 1253 --> 52.19%\n",
      "\n",
      "Total homens vacinados em MA: 1048 --> 43.65%\n",
      "Total mulheres vacinadas em MA: 1353 --> 56.35%\n",
      "\n",
      "Total homens vacinados em PB: 1045 --> 43.52%\n",
      "Total mulheres vacinadas em PB: 1356 --> 56.48%\n",
      "\n",
      "Total homens vacinados em PE: 1107 --> 46.11%\n",
      "Total mulheres vacinadas em PE: 1294 --> 53.89%\n",
      "\n",
      "Total homens vacinados em PI: 1138 --> 47.4%\n",
      "Total mulheres vacinadas em PI: 1263 --> 52.6%\n",
      "\n",
      "Total homens vacinados em RN: 1179 --> 49.1%\n",
      "Total mulheres vacinadas em RN: 1222 --> 50.9%\n",
      "\n",
      "Total homens vacinados em SE: 1091 --> 45.44%\n",
      "Total mulheres vacinadas em SE: 1310 --> 54.56%\n",
      "\n"
     ]
    }
   ],
   "source": [
    "#vacinados por Estado do NE\n",
    "estados_ne = ('AL', 'BA', 'CE', 'MA', 'PB', 'PE', 'PI', 'RN', 'SE')\n",
    "amostra_estadual = df_vacinacao.loc[(df_vacinacao['sigla_uf']=='AL'), 'sigla_uf'].count()\n",
    "\n",
    "for i in range(len(estados_ne)):\n",
    "    homens_vacinado = df_vacinacao.loc[(df_vacinacao['sigla_uf']==estados_ne[i]) & (df_vacinacao['sexo']=='M'), 'sexo'].count()\n",
    "    print(f'Total homens vacinados em {estados_ne[i]}: {homens_vacinado} --> {round(homens_vacinado/amostra_estadual *100,2)}%')\n",
    "    mulheres_vacinada = df_vacinacao.loc[(df_vacinacao['sigla_uf']==estados_ne[i]) & (df_vacinacao['sexo']=='F'), 'sexo'].count()\n",
    "    print(f'Total mulheres vacinadas em {estados_ne[i]}: {mulheres_vacinada} --> {round(mulheres_vacinada/amostra_estadual *100,2)}%\\n')\n",
    "    "
   ]
  },
  {
   "cell_type": "markdown",
   "id": "710a71b0",
   "metadata": {},
   "source": [
    "> Segundo as análises acima, as mulheres representam 54% do total de vacinados no nordeste enquanto homens 46% da população vacinada. Na distribuição por Estados, homens do Rio Grande do Norte (RN) superam a porcentagem do nordeste com 49% de vacinados. Já a vacinação entre mulheres é liderada pelos Estados da Paraíba(PB) e Maranhão(MA) ambos com cerca de 56% de mulheres vacinadas."
   ]
  },
  {
   "cell_type": "code",
   "execution_count": 48,
   "id": "59ecfce6",
   "metadata": {},
   "outputs": [
    {
     "data": {
      "text/plain": [
       "Parda             7669\n",
       "Amarelo           5788\n",
       "Branca            4058\n",
       "Sem Informação    2994\n",
       "Preta             1080\n",
       "Índigena            20\n",
       "Name: raca_cor, dtype: int64"
      ]
     },
     "execution_count": 48,
     "metadata": {},
     "output_type": "execute_result"
    }
   ],
   "source": [
    "# Total de vacinados por Raça no NE\n",
    "df_vacinacao['raca_cor'].value_counts()"
   ]
  },
  {
   "cell_type": "code",
   "execution_count": 49,
   "id": "8cbb511c",
   "metadata": {},
   "outputs": [
    {
     "name": "stdout",
     "output_type": "stream",
     "text": [
      "Pardos: 35.49%\n",
      "Amarelo: 26.79%\n",
      "Branca: 18.78%\n",
      "Sem Informação: 13.86%\n",
      "Preta: 5.0%\n",
      "Índigena: 0.09%\n"
     ]
    }
   ],
   "source": [
    "total_parda = df_vacinacao.loc[(df_vacinacao['raca_cor']=='Parda'), 'raca_cor'].count()\n",
    "total_amarelo = df_vacinacao.loc[(df_vacinacao['raca_cor']=='Amarelo'), 'raca_cor'].count()\n",
    "total_branca = df_vacinacao.loc[(df_vacinacao['raca_cor']=='Branca'), 'raca_cor'].count()\n",
    "total_si = df_vacinacao.loc[(df_vacinacao['raca_cor']=='Sem Informação'), 'raca_cor'].count()\n",
    "total_preta = df_vacinacao.loc[(df_vacinacao['raca_cor']=='Preta'), 'raca_cor'].count()\n",
    "total_ind = df_vacinacao.loc[(df_vacinacao['raca_cor']=='Índigena'), 'raca_cor'].count()\n",
    "\n",
    "print(f'Pardos: {round(total_parda/total_pessoas*100,2)}%')\n",
    "print(f'Amarelo: {round(total_amarelo/total_pessoas*100,2)}%')\n",
    "print(f'Branca: {round(total_branca/total_pessoas*100,2)}%')\n",
    "print(f'Sem Informação: {round(total_si/total_pessoas*100,2)}%')\n",
    "print(f'Preta: {round(total_preta/total_pessoas*100,2)}%')\n",
    "print(f'Índigena: {round(total_ind/total_pessoas*100,2)}%')\n"
   ]
  },
  {
   "cell_type": "code",
   "execution_count": 50,
   "id": "3b32ef86",
   "metadata": {},
   "outputs": [
    {
     "name": "stdout",
     "output_type": "stream",
     "text": [
      "Total de Pardos vacinados em AL: 1518 --> 63.22%\n",
      "Total de Pardos vacinados em BA: 337 --> 14.04%\n",
      "Total de Pardos vacinados em CE: 1003 --> 41.77%\n",
      "Total de Pardos vacinados em MA: 944 --> 39.32%\n",
      "Total de Pardos vacinados em PB: 1016 --> 42.32%\n",
      "Total de Pardos vacinados em PE: 365 --> 15.2%\n",
      "Total de Pardos vacinados em PI: 518 --> 21.57%\n",
      "Total de Pardos vacinados em RN: 724 --> 30.15%\n",
      "Total de Pardos vacinados em SE: 1244 --> 51.81%\n"
     ]
    }
   ],
   "source": [
    "# População parda vacinada por Estado do NE\n",
    "\n",
    "for i in range(len(estados_ne)):\n",
    "    pardos_vacinados = df_vacinacao.loc[(df_vacinacao['sigla_uf']==estados_ne[i]) & (df_vacinacao['raca_cor']=='Parda'), 'raca_cor'].count()\n",
    "    print(f'Total de Pardos vacinados em {estados_ne[i]}: {pardos_vacinados} --> {round(pardos_vacinados/amostra_estadual *100,2)}%')\n",
    "    "
   ]
  },
  {
   "cell_type": "code",
   "execution_count": 51,
   "id": "60a7615a",
   "metadata": {},
   "outputs": [
    {
     "name": "stdout",
     "output_type": "stream",
     "text": [
      "Total de Amarelos vacinados em AL: 358 --> 14.91%\n",
      "Total de Amarelos vacinados em BA: 556 --> 23.16%\n",
      "Total de Amarelos vacinados em CE: 859 --> 35.78%\n",
      "Total de Amarelos vacinados em MA: 795 --> 33.11%\n",
      "Total de Amarelos vacinados em PB: 465 --> 19.37%\n",
      "Total de Amarelos vacinados em PE: 613 --> 25.53%\n",
      "Total de Amarelos vacinados em PI: 909 --> 37.86%\n",
      "Total de Amarelos vacinados em RN: 567 --> 23.62%\n",
      "Total de Amarelos vacinados em SE: 666 --> 27.74%\n"
     ]
    }
   ],
   "source": [
    "# População Amarela vacinada por Estado do NE\n",
    "\n",
    "for i in range(len(estados_ne)):\n",
    "    amarelo_vacinados = df_vacinacao.loc[(df_vacinacao['sigla_uf']==estados_ne[i]) & (df_vacinacao['raca_cor']=='Amarelo'), 'raca_cor'].count()\n",
    "    print(f'Total de Amarelos vacinados em {estados_ne[i]}: {amarelo_vacinados} --> {round(amarelo_vacinados/amostra_estadual *100,2)}%')\n",
    "    "
   ]
  },
  {
   "cell_type": "code",
   "execution_count": 52,
   "id": "b9e93e65",
   "metadata": {},
   "outputs": [
    {
     "name": "stdout",
     "output_type": "stream",
     "text": [
      "Total de Brancos vacinados em AL: 308 --> 12.83%\n",
      "Total de Brancos vacinados em BA: 1000 --> 41.65%\n",
      "Total de Brancos vacinados em CE: 385 --> 16.03%\n",
      "Total de Brancos vacinados em MA: 399 --> 16.62%\n",
      "Total de Brancos vacinados em PB: 410 --> 17.08%\n",
      "Total de Brancos vacinados em PE: 350 --> 14.58%\n",
      "Total de Brancos vacinados em PI: 195 --> 8.12%\n",
      "Total de Brancos vacinados em RN: 873 --> 36.36%\n",
      "Total de Brancos vacinados em SE: 138 --> 5.75%\n"
     ]
    }
   ],
   "source": [
    "# População Branco vacinada por Estado do NE\n",
    "\n",
    "for i in range(len(estados_ne)):\n",
    "    branco_vacinados = df_vacinacao.loc[(df_vacinacao['sigla_uf']==estados_ne[i]) & (df_vacinacao['raca_cor']=='Branca'), 'raca_cor'].count()\n",
    "    print(f'Total de Brancos vacinados em {estados_ne[i]}: {branco_vacinados} --> {round(branco_vacinados/amostra_estadual *100,2)}%')\n",
    "    "
   ]
  },
  {
   "cell_type": "markdown",
   "id": "d260fc6d",
   "metadata": {},
   "source": [
    "> Com relação ao recorte de cor e raça, a população parda lidera entre os vacinados (35,4%), seguido pelos autodeclarados amarelos e brancos. Entretanto, a vacinação nos grupos minoritários negros e indígenas é consideravelmente mais baixa, respectivamente 5% e 0.09%. \n",
    ">\n",
    "> A maior participação de pardos vacinados estão nos Estados de Alagoas(AL) e Sergipe(SE) com 63,2% e 51,8%, respectivamente.\n",
    "> A maior participação de amarelos vacinados estão nos Estados de Piauí(PI) e Ceará(CE) com 37,8% e 35,7%, respectivamente.\n",
    "> A maior participação de brancos vacinados estão nos Estados de Bahia(BA) e Rio Grande do Norte(RN) com 41,6% e 36,3%, respectivamente."
   ]
  },
  {
   "cell_type": "code",
   "execution_count": 53,
   "id": "5f2e6115",
   "metadata": {},
   "outputs": [
    {
     "data": {
      "image/png": "[encoded data removed]",
      "text/plain": [
       "<Figure size 640x480 with 1 Axes>"
      ]
     },
     "metadata": {},
     "output_type": "display_data"
    }
   ],
   "source": [
    "df_vacinacao['raca_cor'].value_counts().plot(kind='bar',color= ['#E26A2C','#FF8243','#FDA65D','#BD512F', '#6F0765', '#4C0045'])\n",
    "plt.title('Quantidade de vacinas por autodeclaração de raça no NE')\n",
    "plt.xticks(rotation=45)\n",
    "plt.show()"
   ]
  },
  {
   "cell_type": "code",
   "execution_count": 54,
   "id": "b159b2fb",
   "metadata": {},
   "outputs": [
    {
     "data": {
      "text/plain": [
       "PFIZER                 8210\n",
       "ASTRAZENECA/FIOCRUZ    7634\n",
       "SINOVAC/BUTANTAN       5482\n",
       "JANSSEN                 283\n",
       "Name: nome_fabricante, dtype: int64"
      ]
     },
     "execution_count": 54,
     "metadata": {},
     "output_type": "execute_result"
    }
   ],
   "source": [
    "df_vacinacao['nome_fabricante'].value_counts()"
   ]
  },
  {
   "cell_type": "code",
   "execution_count": 55,
   "id": "35c4f75b",
   "metadata": {},
   "outputs": [
    {
     "name": "stdout",
     "output_type": "stream",
     "text": [
      "Pfizer: 37.99%\n",
      "Astrazeneca: 35.33%\n",
      "Sinovac: 25.37%\n",
      "Janssen: 1.31%\n"
     ]
    }
   ],
   "source": [
    "total_pfizer = df_vacinacao.loc[(df_vacinacao['nome_fabricante']=='PFIZER'), 'nome_fabricante'].count()\n",
    "total_astrazeneca = df_vacinacao.loc[(df_vacinacao['nome_fabricante']=='ASTRAZENECA/FIOCRUZ'), 'nome_fabricante'].count()\n",
    "total_sinovac = df_vacinacao.loc[(df_vacinacao['nome_fabricante']=='SINOVAC/BUTANTAN'), 'nome_fabricante'].count()\n",
    "total_janssen = df_vacinacao.loc[(df_vacinacao['nome_fabricante']=='JANSSEN'), 'nome_fabricante'].count()\n",
    "\n",
    "print(f'Pfizer: {round(total_pfizer/total_pessoas*100,2)}%')\n",
    "print(f'Astrazeneca: {round(total_astrazeneca/total_pessoas*100,2)}%')\n",
    "print(f'Sinovac: {round(total_sinovac /total_pessoas*100,2)}%')\n",
    "print(f'Janssen: {round(total_janssen/total_pessoas*100,2)}%')\n"
   ]
  },
  {
   "cell_type": "code",
   "execution_count": 56,
   "id": "e335d0c7",
   "metadata": {},
   "outputs": [
    {
     "name": "stdout",
     "output_type": "stream",
     "text": [
      "Total de vacinas Pfizer aplicados em AL: 923 --> 38.44%\n",
      "Total de vacinas Pfizer aplicados em BA: 913 --> 38.03%\n",
      "Total de vacinas Pfizer aplicados em CE: 871 --> 36.28%\n",
      "Total de vacinas Pfizer aplicados em MA: 804 --> 33.49%\n",
      "Total de vacinas Pfizer aplicados em PB: 907 --> 37.78%\n",
      "Total de vacinas Pfizer aplicados em PE: 907 --> 37.78%\n",
      "Total de vacinas Pfizer aplicados em PI: 969 --> 40.36%\n",
      "Total de vacinas Pfizer aplicados em RN: 920 --> 38.32%\n",
      "Total de vacinas Pfizer aplicados em SE: 996 --> 41.48%\n"
     ]
    }
   ],
   "source": [
    " # Estados com mais vacinas Pfizer aplicadas\n",
    "\n",
    "for i in range(len(estados_ne)):\n",
    "    pfizer = df_vacinacao.loc[(df_vacinacao['sigla_uf']==estados_ne[i]) & (df_vacinacao['nome_fabricante']=='PFIZER'), 'nome_fabricante'].count()\n",
    "    print(f'Total de vacinas Pfizer aplicados em {estados_ne[i]}: {pfizer} --> {round(pfizer/amostra_estadual *100,2)}%')\n",
    "    "
   ]
  },
  {
   "cell_type": "code",
   "execution_count": 57,
   "id": "0e360c09",
   "metadata": {},
   "outputs": [
    {
     "name": "stdout",
     "output_type": "stream",
     "text": [
      "Total de vacinas Astrazeneca aplicados em AL: 856 --> 35.65%\n",
      "Total de vacinas Astrazeneca aplicados em BA: 797 --> 33.19%\n",
      "Total de vacinas Astrazeneca aplicados em CE: 784 --> 32.65%\n",
      "Total de vacinas Astrazeneca aplicados em MA: 1069 --> 44.52%\n",
      "Total de vacinas Astrazeneca aplicados em PB: 791 --> 32.94%\n",
      "Total de vacinas Astrazeneca aplicados em PE: 824 --> 34.32%\n",
      "Total de vacinas Astrazeneca aplicados em PI: 828 --> 34.49%\n",
      "Total de vacinas Astrazeneca aplicados em RN: 848 --> 35.32%\n",
      "Total de vacinas Astrazeneca aplicados em SE: 837 --> 34.86%\n"
     ]
    }
   ],
   "source": [
    " # Estados com mais vacinas Astrazeneca aplicadas\n",
    "\n",
    "for i in range(len(estados_ne)):\n",
    "    astrazeneca = df_vacinacao.loc[(df_vacinacao['sigla_uf']==estados_ne[i]) & (df_vacinacao['nome_fabricante']=='ASTRAZENECA/FIOCRUZ'), 'nome_fabricante'].count()\n",
    "    print(f'Total de vacinas Astrazeneca aplicados em {estados_ne[i]}: {astrazeneca} --> {round(astrazeneca/amostra_estadual *100,2)}%')\n",
    "    "
   ]
  },
  {
   "cell_type": "markdown",
   "id": "fb7d6ef4",
   "metadata": {},
   "source": [
    "> No cenário das fabricantes de vacinas contra COVID-19 é possível perceber que as doses foram majoritariamente da Pfizer e Astrazeneca/Fiocruz, com respectivamente 37,9% e 35,3%.\n",
    ">\n",
    "> A Pfizer foi aplicada principalmente, dentre os Estados do NE, no Estado de Sergipe(SE) e Piauí(PI) com 41,4% e 40,3% respectivamente. Já a Astrazeneca/Fiocruz concentrou-se no Estado do Maranhã(MA) com 46,4%"
   ]
  },
  {
   "cell_type": "code",
   "execution_count": 58,
   "id": "bcff2237",
   "metadata": {},
   "outputs": [
    {
     "data": {
      "image/png": "[encoded data removed]",
      "text/plain": [
       "<Figure size 640x480 with 1 Axes>"
      ]
     },
     "metadata": {},
     "output_type": "display_data"
    }
   ],
   "source": [
    "df_vacinacao['nome_fabricante'].value_counts().plot(kind='bar',color= ['#E26A2C','#FF8243','#FDA65D','#FFD07F'])\n",
    "plt.title('Quantidade de vacinas por fabricante no NE')\n",
    "plt.xticks(rotation=45)\n",
    "plt.show()"
   ]
  },
  {
   "cell_type": "markdown",
   "id": "64e06db2",
   "metadata": {},
   "source": [
    "### Gráficos"
   ]
  },
  {
   "cell_type": "code",
   "execution_count": 62,
   "id": "5fbeb7fa",
   "metadata": {},
   "outputs": [
    {
     "data": {
      "image/png": "[encoded data removed]",
      "text/plain": [
       "<Figure size 640x480 with 1 Axes>"
      ]
     },
     "metadata": {},
     "output_type": "display_data"
    }
   ],
   "source": [
    "df_vacinacao['dose'].value_counts().plot(kind='bar',color= ['#E26A2C','#FF8243','#FDA65D'])\n",
    "plt.title('Doses aplicadas no NE')\n",
    "plt.xticks(rotation=45)\n",
    "plt.show()"
   ]
  }
 ],
 "metadata": {
  "kernelspec": {
   "display_name": "Python 3",
   "language": "python",
   "name": "python3"
  },
  "language_info": {
   "codemirror_mode": {
    "name": "ipython",
    "version": 3
   },
   "file_extension": ".py",
   "mimetype": "text/x-python",
   "name": "python",
   "nbconvert_exporter": "python",
   "pygments_lexer": "ipython3",
   "version": "3.9.12"
  }
 },
 "nbformat": 4,
 "nbformat_minor": 5
}
